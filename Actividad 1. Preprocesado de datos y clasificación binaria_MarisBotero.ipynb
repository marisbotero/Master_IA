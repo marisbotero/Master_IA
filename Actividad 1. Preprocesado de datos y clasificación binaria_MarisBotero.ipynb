{
 "cells": [
  {
   "cell_type": "markdown",
   "metadata": {
    "toc": true
   },
   "source": [
    "<h1>Table of Contents<span class=\"tocSkip\"></span></h1>\n",
    "<div class=\"toc\"><ul class=\"toc-item\"><li><span><a href=\"#Actividad-2.-Preprocesado-de-datos-y-clasificación-binaria.\" data-toc-modified-id=\"Actividad-2.-Preprocesado-de-datos-y-clasificación-binaria.-1\"><span class=\"toc-item-num\">1&nbsp;&nbsp;</span>Actividad 2. Preprocesado de datos y clasificación binaria.</a></span><ul class=\"toc-item\"><li><span><a href=\"#Finalidad-de-la-práctica\" data-toc-modified-id=\"Finalidad-de-la-práctica-1.1\"><span class=\"toc-item-num\">1.1&nbsp;&nbsp;</span>Finalidad de la práctica</a></span></li><li><span><a href=\"#Característiscticas-del-dataset-usado\" data-toc-modified-id=\"Característiscticas-del-dataset-usado-1.2\"><span class=\"toc-item-num\">1.2&nbsp;&nbsp;</span>Característiscticas del dataset usado</a></span></li><li><span><a href=\"#Importación-del-dataset\" data-toc-modified-id=\"Importación-del-dataset-1.3\"><span class=\"toc-item-num\">1.3&nbsp;&nbsp;</span>Importación del dataset</a></span><ul class=\"toc-item\"><li><span><a href=\"#Primera-pregunta-(1-punto)\" data-toc-modified-id=\"Primera-pregunta-(1-punto)-1.3.1\"><span class=\"toc-item-num\">1.3.1&nbsp;&nbsp;</span>Primera pregunta (1 punto)</a></span></li><li><span><a href=\"#Por-lo-visto-en-el-dataset-anterior,-para--un-caso-de-regresión-logística-en-aprendizaje-supervisado,-¿qué-columnas-son-las-variables-que-podríamos-usar-para-realizar-la-clasificación-y-cuál-es-la-columna-que-indica-la-etiqueta-a-la-que-se-debe-apuntar?-Por-favor,-indíquelas.\" data-toc-modified-id=\"Por-lo-visto-en-el-dataset-anterior,-para--un-caso-de-regresión-logística-en-aprendizaje-supervisado,-¿qué-columnas-son-las-variables-que-podríamos-usar-para-realizar-la-clasificación-y-cuál-es-la-columna-que-indica-la-etiqueta-a-la-que-se-debe-apuntar?-Por-favor,-indíquelas.-1.3.2\"><span class=\"toc-item-num\">1.3.2&nbsp;&nbsp;</span>Por lo visto en el dataset anterior, para  un caso de regresión logística en aprendizaje supervisado, ¿qué columnas son las variables que podríamos usar para realizar la clasificación y cuál es la columna que indica la etiqueta a la que se debe apuntar? Por favor, indíquelas.</a></span></li><li><span><a href=\"#Segunda-pregunta-(1-punto)\" data-toc-modified-id=\"Segunda-pregunta-(1-punto)-1.3.3\"><span class=\"toc-item-num\">1.3.3&nbsp;&nbsp;</span>Segunda pregunta (1 punto)</a></span></li><li><span><a href=\"#Haciendo-uso-de-la-función-de-pandas-isnull().sum(),-compruebe-si-hay-missing_values-en-el-dataset-facilitado.\" data-toc-modified-id=\"Haciendo-uso-de-la-función-de-pandas-isnull().sum(),-compruebe-si-hay-missing_values-en-el-dataset-facilitado.-1.3.4\"><span class=\"toc-item-num\">1.3.4&nbsp;&nbsp;</span>Haciendo uso de la función de pandas <code>isnull().sum()</code>, compruebe si hay <code>missing_values</code> en el dataset facilitado.</a></span></li><li><span><a href=\"#Visualización-de-datos\" data-toc-modified-id=\"Visualización-de-datos-1.3.5\"><span class=\"toc-item-num\">1.3.5&nbsp;&nbsp;</span>Visualización de datos</a></span></li><li><span><a href=\"#Tercera-pregunta-(2-puntos)\" data-toc-modified-id=\"Tercera-pregunta-(2-puntos)-1.3.6\"><span class=\"toc-item-num\">1.3.6&nbsp;&nbsp;</span>Tercera pregunta (2 puntos)</a></span></li><li><span><a href=\"#a)-Haciendo-uso-de-df.hist(),-ejecute-las-siguientes-líneas-de-código.-(0.5-puntos)\" data-toc-modified-id=\"a)-Haciendo-uso-de-df.hist(),-ejecute-las-siguientes-líneas-de-código.-(0.5-puntos)-1.3.7\"><span class=\"toc-item-num\">1.3.7&nbsp;&nbsp;</span>a) Haciendo uso de <code>df.hist()</code>, ejecute las siguientes líneas de código. (0.5 puntos)</a></span></li><li><span><a href=\"#b)-Vemos-que-hay-algunas-características-del-dataset-que-tienen-un-valor-mínimo-sin-ningún-sentido-lógico.-¿Qué-características-o-variables-considera-que-habría-que-modificar-para-eliminar-esos-registros-nulos-que-carecen-de-sentido?-(0.5-puntos)\" data-toc-modified-id=\"b)-Vemos-que-hay-algunas-características-del-dataset-que-tienen-un-valor-mínimo-sin-ningún-sentido-lógico.-¿Qué-características-o-variables-considera-que-habría-que-modificar-para-eliminar-esos-registros-nulos-que-carecen-de-sentido?-(0.5-puntos)-1.3.8\"><span class=\"toc-item-num\">1.3.8&nbsp;&nbsp;</span>b) Vemos que hay algunas características del dataset que tienen un valor mínimo sin ningún sentido lógico. ¿Qué características o variables considera que habría que modificar para eliminar esos registros nulos que carecen de sentido? (0.5 puntos)</a></span></li><li><span><a href=\"#c)-¿Cuál-es-la-relación-$\\Gamma-=-\\frac{diabeticos}{\\neg-diabeticos}$?-¿Está-nuestro-dataset-balanceado?-Si-es-así,-justificar.-De-lo-contrario,-indicar-qué-clase-está-subrepresentada.-(0.5-puntos)\" data-toc-modified-id=\"c)-¿Cuál-es-la-relación-$\\Gamma-=-\\frac{diabeticos}{\\neg-diabeticos}$?-¿Está-nuestro-dataset-balanceado?-Si-es-así,-justificar.-De-lo-contrario,-indicar-qué-clase-está-subrepresentada.-(0.5-puntos)-1.3.9\"><span class=\"toc-item-num\">1.3.9&nbsp;&nbsp;</span>c) ¿Cuál es la relación $\\Gamma = \\frac{diabeticos}{\\neg diabeticos}$? ¿Está nuestro dataset balanceado? Si es así, justificar. De lo contrario, indicar qué clase está subrepresentada. (0.5 puntos)</a></span></li><li><span><a href=\"#d)-¿Qué-alternativas-de-actuación-sobre-el-dataset-propone-para-compensar-la-posible-subrepresentación-de-una-clase?-(0.5-puntos)\" data-toc-modified-id=\"d)-¿Qué-alternativas-de-actuación-sobre-el-dataset-propone-para-compensar-la-posible-subrepresentación-de-una-clase?-(0.5-puntos)-1.3.10\"><span class=\"toc-item-num\">1.3.10&nbsp;&nbsp;</span>d) ¿Qué alternativas de actuación sobre el dataset propone para compensar la posible subrepresentación de una clase? (0.5 puntos)</a></span></li></ul></li><li><span><a href=\"#Limpieza-y-procesado-de-datos\" data-toc-modified-id=\"Limpieza-y-procesado-de-datos-1.4\"><span class=\"toc-item-num\">1.4&nbsp;&nbsp;</span>Limpieza y procesado de datos</a></span><ul class=\"toc-item\"><li><span><a href=\"#Cuarta-pregunta-(1-puntos)\" data-toc-modified-id=\"Cuarta-pregunta-(1-puntos)-1.4.1\"><span class=\"toc-item-num\">1.4.1&nbsp;&nbsp;</span>Cuarta pregunta (1 puntos)</a></span></li><li><span><a href=\"#¿Cuál-es-el-porcentaje-de-datos-nulos-de-insulina-en-el-dataset-(en-la-columna-insuline)?-¿Ve-conveniente-eliminar-todas-aquellas-filas-donde-nos-falte-alguna-variable?-Justifique-su-respuesta.\" data-toc-modified-id=\"¿Cuál-es-el-porcentaje-de-datos-nulos-de-insulina-en-el-dataset-(en-la-columna-insuline)?-¿Ve-conveniente-eliminar-todas-aquellas-filas-donde-nos-falte-alguna-variable?-Justifique-su-respuesta.-1.4.2\"><span class=\"toc-item-num\">1.4.2&nbsp;&nbsp;</span>¿Cuál es el porcentaje de datos nulos de insulina en el dataset (en la columna <code>insuline</code>)? ¿Ve conveniente eliminar todas aquellas filas donde nos falte alguna variable? Justifique su respuesta.</a></span></li><li><span><a href=\"#Quinta-pregunta-(1-puntos)\" data-toc-modified-id=\"Quinta-pregunta-(1-puntos)-1.4.3\"><span class=\"toc-item-num\">1.4.3&nbsp;&nbsp;</span>Quinta pregunta (1 puntos)</a></span></li><li><span><a href=\"#a)-Realice-la-sustitución-indicada-arriba-por-la-mediana-en-todas-aquellas-variables-que-considere-que-contienen-valores-sin-sentido-(en-relación-con-la-pregunta-3.b.)-(5-puntos)\" data-toc-modified-id=\"a)-Realice-la-sustitución-indicada-arriba-por-la-mediana-en-todas-aquellas-variables-que-considere-que-contienen-valores-sin-sentido-(en-relación-con-la-pregunta-3.b.)-(5-puntos)-1.4.4\"><span class=\"toc-item-num\">1.4.4&nbsp;&nbsp;</span>a) Realice la sustitución indicada arriba por la mediana en todas aquellas variables que considere que contienen valores sin sentido (en relación con la pregunta 3.b.) (5 puntos)</a></span></li><li><span><a href=\"#b)-Vuelva-a-ejecutar-el-comando-diabetes.describe().-¿Cuál-es-la-única-variable-que-debe-tener-como-valor-mínimo-$0$-tras-haber-hecho-la-sustitución-de-los-valores-nulos-por-su-mediana?-(0,5-puntos)\" data-toc-modified-id=\"b)-Vuelva-a-ejecutar-el-comando-diabetes.describe().-¿Cuál-es-la-única-variable-que-debe-tener-como-valor-mínimo-$0$-tras-haber-hecho-la-sustitución-de-los-valores-nulos-por-su-mediana?-(0,5-puntos)-1.4.5\"><span class=\"toc-item-num\">1.4.5&nbsp;&nbsp;</span>b) Vuelva a ejecutar el comando <code>diabetes.describe()</code>. ¿Cuál es la única variable que debe tener como valor mínimo $0$ tras haber hecho la sustitución de los valores nulos por su mediana? (0,5 puntos)</a></span></li><li><span><a href=\"#Normalizado-del-dataset\" data-toc-modified-id=\"Normalizado-del-dataset-1.4.6\"><span class=\"toc-item-num\">1.4.6&nbsp;&nbsp;</span>Normalizado del dataset</a></span></li><li><span><a href=\"#Sexta-pregunta-(2-puntos)\" data-toc-modified-id=\"Sexta-pregunta-(2-puntos)-1.4.7\"><span class=\"toc-item-num\">1.4.7&nbsp;&nbsp;</span>Sexta pregunta (2 puntos)</a></span></li><li><span><a href=\"#a)-Escale-las-caracteríticas-del-dataset-que-considere-necesarias-entre-0-y-1-para-su-posterior-uso-en-una-regresión-logítica-binaria.-(1-puntos)\" data-toc-modified-id=\"a)-Escale-las-caracteríticas-del-dataset-que-considere-necesarias-entre-0-y-1-para-su-posterior-uso-en-una-regresión-logítica-binaria.-(1-puntos)-1.4.8\"><span class=\"toc-item-num\">1.4.8&nbsp;&nbsp;</span>a) Escale las caracteríticas del dataset que considere necesarias entre <code>0</code> y <code>1</code> para su posterior uso en una regresión logítica binaria. (1 puntos)</a></span><ul class=\"toc-item\"><li><span><a href=\"#Pista:-para-hacerlo-rápidamente,-puede-definir-una-lista-cols_to_norm-con-las-columnas-a-normalizar-e-incluir-la-función-a-usar-en-el-escalado-e-iterar-en-bucle:\" data-toc-modified-id=\"Pista:-para-hacerlo-rápidamente,-puede-definir-una-lista-cols_to_norm-con-las-columnas-a-normalizar-e-incluir-la-función-a-usar-en-el-escalado-e-iterar-en-bucle:-1.4.8.1\"><span class=\"toc-item-num\">1.4.8.1&nbsp;&nbsp;</span>Pista: para hacerlo rápidamente, puede definir una lista <code>cols_to_norm</code> con las columnas a normalizar e incluir la función a usar en el escalado e iterar en bucle:</a></span></li></ul></li><li><span><a href=\"#b)-¿Qué-destacaría-en-las-dos-tablas-anteriores?¿Cómo-han-cambiado-los-intervalos-en-los-que-las-características-están-distribuidas?-(0,5-puntos)\" data-toc-modified-id=\"b)-¿Qué-destacaría-en-las-dos-tablas-anteriores?¿Cómo-han-cambiado-los-intervalos-en-los-que-las-características-están-distribuidas?-(0,5-puntos)-1.4.9\"><span class=\"toc-item-num\">1.4.9&nbsp;&nbsp;</span>b) ¿Qué destacaría en las dos tablas anteriores?¿Cómo han cambiado los intervalos en los que las características están distribuidas? (0,5 puntos)</a></span></li><li><span><a href=\"#c)-¿Qué-otro-tipo-de-escalado-aplicaría-a-las-características-de-nuestro-dataset?-Impleméntela-debajo-y-justifique-su-elección.-(0,5-puntos)\" data-toc-modified-id=\"c)-¿Qué-otro-tipo-de-escalado-aplicaría-a-las-características-de-nuestro-dataset?-Impleméntela-debajo-y-justifique-su-elección.-(0,5-puntos)-1.4.10\"><span class=\"toc-item-num\">1.4.10&nbsp;&nbsp;</span>c) ¿Qué otro tipo de escalado aplicaría a las características de nuestro dataset? Impleméntela debajo y justifique su elección. (0,5 puntos)</a></span></li><li><span><a href=\"#Matriz-de-correlación\" data-toc-modified-id=\"Matriz-de-correlación-1.4.11\"><span class=\"toc-item-num\">1.4.11&nbsp;&nbsp;</span>Matriz de correlación</a></span></li><li><span><a href=\"#Séptima-pregunta-(1-punto)\" data-toc-modified-id=\"Séptima-pregunta-(1-punto)-1.4.12\"><span class=\"toc-item-num\">1.4.12&nbsp;&nbsp;</span>Séptima pregunta (1 punto)</a></span></li><li><span><a href=\"#Indique,-de-mayor-a-menor-correlación,-las-variables-que-guardan-una-mayor-correlación-con-la-clase.-¿Tiene-sentido-que-las-tres-primeras-variables-con-mayor-correlación-se-identifiquen-con-una-mayor-probabilidad-de-sufrir-diabetes-de-tipo-2?-Justifique-su-respuesta.\" data-toc-modified-id=\"Indique,-de-mayor-a-menor-correlación,-las-variables-que-guardan-una-mayor-correlación-con-la-clase.-¿Tiene-sentido-que-las-tres-primeras-variables-con-mayor-correlación-se-identifiquen-con-una-mayor-probabilidad-de-sufrir-diabetes-de-tipo-2?-Justifique-su-respuesta.-1.4.13\"><span class=\"toc-item-num\">1.4.13&nbsp;&nbsp;</span>Indique, de mayor a menor correlación, las variables que guardan una mayor correlación con la clase. ¿Tiene sentido que las tres primeras variables con mayor correlación se identifiquen con una mayor probabilidad de sufrir diabetes de tipo 2? Justifique su respuesta.</a></span></li></ul></li><li><span><a href=\"#Entrenando-un-modelo-de-Regresión-Logística-para-el-dataset\" data-toc-modified-id=\"Entrenando-un-modelo-de-Regresión-Logística-para-el-dataset-1.5\"><span class=\"toc-item-num\">1.5&nbsp;&nbsp;</span>Entrenando un modelo de Regresión Logística para el dataset</a></span><ul class=\"toc-item\"><li><span><a href=\"#Partición-del-dataset-en-train-test-y-test-set\" data-toc-modified-id=\"Partición-del-dataset-en-train-test-y-test-set-1.5.1\"><span class=\"toc-item-num\">1.5.1&nbsp;&nbsp;</span>Partición del dataset en train test y test set</a></span></li><li><span><a href=\"#Octava-pregunta-(1-punto)\" data-toc-modified-id=\"Octava-pregunta-(1-punto)-1.5.2\"><span class=\"toc-item-num\">1.5.2&nbsp;&nbsp;</span>Octava pregunta (1 punto)</a></span></li><li><span><a href=\"#Este-ajuste-se-ha-realizado-con-los-datos-escalados-entre-$0$-y-$1$.\" data-toc-modified-id=\"Este-ajuste-se-ha-realizado-con-los-datos-escalados-entre-$0$-y-$1$.-1.5.3\"><span class=\"toc-item-num\">1.5.3&nbsp;&nbsp;</span>Este ajuste se ha realizado con los datos escalados entre $0$ y $1$.</a></span></li><li><span><a href=\"#a)-Repita-este-ajuste-con-los-datos-no-escalados-(es-decir,-con-el-dataset-original)-(0,7-puntos)\" data-toc-modified-id=\"a)-Repita-este-ajuste-con-los-datos-no-escalados-(es-decir,-con-el-dataset-original)-(0,7-puntos)-1.5.4\"><span class=\"toc-item-num\">1.5.4&nbsp;&nbsp;</span>a) Repita este ajuste con los datos no escalados (es decir, con el dataset original) (0,7 puntos)</a></span></li><li><span><a href=\"#c)-¿Observa-una-mejora-sustancial-en-alguno-de-los-casos-o-un-empeoramiento?-Justifique-su-respuesta.-¿Por-qué-no-prueba-a-implementar-otro-algoritmo-(por-ejemplo,-RandomForestClassifier())-para-ver-si-mejora-su-precisión?-¿Cómo-interpreta-los-resultados-obtenidos?-(0,3-puntos)\" data-toc-modified-id=\"c)-¿Observa-una-mejora-sustancial-en-alguno-de-los-casos-o-un-empeoramiento?-Justifique-su-respuesta.-¿Por-qué-no-prueba-a-implementar-otro-algoritmo-(por-ejemplo,-RandomForestClassifier())-para-ver-si-mejora-su-precisión?-¿Cómo-interpreta-los-resultados-obtenidos?-(0,3-puntos)-1.5.5\"><span class=\"toc-item-num\">1.5.5&nbsp;&nbsp;</span>c) ¿Observa una mejora sustancial en alguno de los casos o un empeoramiento? Justifique su respuesta. ¿Por qué no prueba a implementar otro algoritmo (por ejemplo, <code>RandomForestClassifier()</code>) para ver si mejora su precisión? ¿Cómo interpreta los resultados obtenidos? (0,3 puntos)</a></span></li></ul></li></ul></li></ul></div>"
   ]
  },
  {
   "cell_type": "markdown",
   "metadata": {
    "collapsed": true
   },
   "source": [
    "# Actividad 2. Preprocesado de datos y clasificación binaria."
   ]
  },
  {
   "cell_type": "markdown",
   "metadata": {},
   "source": [
    "## Finalidad de la práctica"
   ]
  },
  {
   "cell_type": "markdown",
   "metadata": {},
   "source": [
    "Dado el data set *Pima Indians Diabetes Database*, donde se tiene un registro de personas afectadas por Diabetes tipo 2 en función de otras muchas variables, se busca:\n",
    "* **Familiarizarnos con las técnicas de importación** de datos a través de la librería [`pandas`](https://pandas.pydata.org/).\n",
    "* **Analizar** los datos haciendo uso de las librerías [`pandas`](https://pandas.pydata.org/), [`matplotlib`](https://matplotlib.org/) y [`seaborn`](https://seaborn.pydata.org/).\n",
    "* **Sacar la mayor cantidad de conclusiones posibles** de cara al posible entrenamiento de un modelo de Machine Learning\n",
    "* **Realizar transformaciones y normalizaciones requeridas**\n",
    "* **Mostrar un rápido ejemplo de regresión logística** con este dataset."
   ]
  },
  {
   "cell_type": "markdown",
   "metadata": {},
   "source": [
    "____\n",
    "## Característiscticas del dataset usado\n",
    "\n",
    "Se hace uso del fichero `pima-indians-diabetes.csv`, el cual presenta las siguinetes características:\n",
    "\n",
    "1. **Title**: Pima Indians Diabetes Database\n",
    "\n",
    "2. **Sources**:\n",
    "   (a) Original owners: National Institute of Diabetes and Digestive and\n",
    "                        Kidney Diseases\n",
    "   (b) Donor of database: Vincent Sigillito (vgs@aplcen.apl.jhu.edu)\n",
    "                          Research Center, RMI Group Leader\n",
    "                          Applied Physics Laboratory\n",
    "                          The Johns Hopkins University\n",
    "                          Johns Hopkins Road\n",
    "                          Laurel, MD 20707\n",
    "                          (301) 953-6231\n",
    "   (c) Date received: 9 May 1990\n",
    "   \n",
    "3. **References**:\n",
    "       Smith,~J.~W., Everhart,~J.~E., Dickson,~W.~C., Knowler,~W.~C., \\&\n",
    "       Johannes,~R.~S. (1988). Using the ADAP learning algorithm to forecast\n",
    "       the onset of diabetes mellitus.  In {\\it Proceedings of the Symposium\n",
    "       on Computer Applications and Medical Care} (pp. 261--265).  IEEE\n",
    "       Computer Society Press.\n",
    "\n",
    "       The diagnostic, binary-valued variable investigated is whether the\n",
    "       patient shows signs of diabetes according to World Health Organization\n",
    "       criteria (i.e., if the 2 hour post-load plasma glucose was at least \n",
    "       200 mg/dl at any survey  examination or if found during routine medical\n",
    "       care).   The population lives near Phoenix, Arizona, USA.\n",
    "\n",
    "       Results: Their ADAP algorithm makes a real-valued prediction between\n",
    "       0 and 1.  This was transformed into a binary decision using a cutoff of \n",
    "       0.448.  Using 576 training instances, the sensitivity and specificity\n",
    "       of their algorithm was 76% on the remaining 192 instances.\n",
    "\n",
    "4. **Relevant information**:\n",
    "\n",
    "      Several constraints were placed on the selection of these instances from\n",
    "      a larger database.  In particular, all patients here are females at\n",
    "      least 21 years old of Pima Indian heritage.  ADAP is an adaptive learning\n",
    "      routine that generates and executes digital analogs of perceptron-like\n",
    "      devices.  It is a unique algorithm; see the paper for details.\n",
    "      \n",
    "5. **Number of samples**: 768\n",
    "\n",
    "6. **Number of features**: 8 + clase \n",
    "\n",
    "    7. Para cada característica: (**todas las variables son numéricas**)\n",
    "       1. Number of times pregnant\n",
    "       2. Plasma glucose concentration a 2 hours in an oral glucose tolerance test\n",
    "       3. Diastolic blood pressure (mm Hg)\n",
    "       4. Triceps skin fold thickness (mm)\n",
    "       5. 2-Hour serum insulin (mu U/ml)\n",
    "       6. Body mass index (weight in kg/(height in m)^2)\n",
    "       7. Diabetes pedigree function\n",
    "       8. Age (years)\n",
    "       9. Class variable (0 or 1)\n",
    "       \n",
    "7. **Missing Attribute Values**: Yes"
   ]
  },
  {
   "cell_type": "markdown",
   "metadata": {},
   "source": [
    "Los **akimel o'odham** o **pima** son un grupo indígena que vive en el estado de Arizona (Estados Unidos) y en el estado mexicano en Sonora y Chihuahua. Su nombre significa \"pueblo del río\", que los distingue de sus parientes los \"pápagos\" (la gente del desierto). Se puede encontrar más información en [este enlace](https://www.ncbi.nlm.nih.gov/pmc/articles/PMC4418458/). "
   ]
  },
  {
   "cell_type": "code",
   "execution_count": 1,
   "metadata": {},
   "outputs": [],
   "source": [
    "from IPython.core.display import HTML"
   ]
  },
  {
   "cell_type": "markdown",
   "metadata": {},
   "source": [
    "<img src=\"images/pima.jpg\" width=\"400\" height=\"400\" align=\"left\"/>\n",
    "<img src=\"images/pima-location.jpg\" width=\"400\" height=\"400\" align=\"right\"/>"
   ]
  },
  {
   "cell_type": "raw",
   "metadata": {},
   "source": [
    "Fotografías de miembros del pueblo Pima y Territorio ca. 1700"
   ]
  },
  {
   "cell_type": "markdown",
   "metadata": {},
   "source": [
    "-----------------------------"
   ]
  },
  {
   "cell_type": "markdown",
   "metadata": {},
   "source": [
    "## Importación del dataset"
   ]
  },
  {
   "cell_type": "markdown",
   "metadata": {},
   "source": [
    "Comencemos importando las librerías que vamos a necesitar en esta parte de la práctica:"
   ]
  },
  {
   "cell_type": "code",
   "execution_count": 2,
   "metadata": {},
   "outputs": [],
   "source": [
    "import pandas as pd"
   ]
  },
  {
   "cell_type": "code",
   "execution_count": 3,
   "metadata": {},
   "outputs": [],
   "source": [
    "import numpy as np"
   ]
  },
  {
   "cell_type": "markdown",
   "metadata": {},
   "source": [
    "Cargamos los datos desde el fichero `pima-indians-diabetes.csv`."
   ]
  },
  {
   "cell_type": "code",
   "execution_count": 4,
   "metadata": {},
   "outputs": [],
   "source": [
    "diabetes = pd.read_csv('data/pima-indians-diabetes.csv', \n",
    "                       names=['Num_pregnant', 'Gluc_concent',\n",
    "                             'Blood_press', 'Triceps', 'Insulin', 'BMI',\n",
    "                             'Pedigree', 'Age', 'Diagnosis'])"
   ]
  },
  {
   "cell_type": "code",
   "execution_count": 6,
   "metadata": {
    "scrolled": false
   },
   "outputs": [
    {
     "data": {
      "text/plain": [
       "Index(['Num_pregnant', 'Gluc_concent', 'Blood_press', 'Triceps', 'Insulin',\n",
       "       'BMI', 'Pedigree', 'Age', 'Diagnosis'],\n",
       "      dtype='object')"
      ]
     },
     "execution_count": 6,
     "metadata": {},
     "output_type": "execute_result"
    }
   ],
   "source": [
    "diabetes.columns"
   ]
  },
  {
   "cell_type": "markdown",
   "metadata": {},
   "source": [
    "Con la función `head` somos capaces de echarle un vistazo rápido a los valores del dataset. "
   ]
  },
  {
   "cell_type": "code",
   "execution_count": 7,
   "metadata": {
    "scrolled": true
   },
   "outputs": [
    {
     "data": {
      "text/html": [
       "<div>\n",
       "<style scoped>\n",
       "    .dataframe tbody tr th:only-of-type {\n",
       "        vertical-align: middle;\n",
       "    }\n",
       "\n",
       "    .dataframe tbody tr th {\n",
       "        vertical-align: top;\n",
       "    }\n",
       "\n",
       "    .dataframe thead th {\n",
       "        text-align: right;\n",
       "    }\n",
       "</style>\n",
       "<table border=\"1\" class=\"dataframe\">\n",
       "  <thead>\n",
       "    <tr style=\"text-align: right;\">\n",
       "      <th></th>\n",
       "      <th>Num_pregnant</th>\n",
       "      <th>Gluc_concent</th>\n",
       "      <th>Blood_press</th>\n",
       "      <th>Triceps</th>\n",
       "      <th>Insulin</th>\n",
       "      <th>BMI</th>\n",
       "      <th>Pedigree</th>\n",
       "      <th>Age</th>\n",
       "      <th>Diagnosis</th>\n",
       "    </tr>\n",
       "  </thead>\n",
       "  <tbody>\n",
       "    <tr>\n",
       "      <th>0</th>\n",
       "      <td>6</td>\n",
       "      <td>148</td>\n",
       "      <td>72</td>\n",
       "      <td>35</td>\n",
       "      <td>0</td>\n",
       "      <td>33.6</td>\n",
       "      <td>0.627</td>\n",
       "      <td>50</td>\n",
       "      <td>1</td>\n",
       "    </tr>\n",
       "    <tr>\n",
       "      <th>1</th>\n",
       "      <td>1</td>\n",
       "      <td>85</td>\n",
       "      <td>66</td>\n",
       "      <td>29</td>\n",
       "      <td>0</td>\n",
       "      <td>26.6</td>\n",
       "      <td>0.351</td>\n",
       "      <td>31</td>\n",
       "      <td>0</td>\n",
       "    </tr>\n",
       "    <tr>\n",
       "      <th>2</th>\n",
       "      <td>8</td>\n",
       "      <td>183</td>\n",
       "      <td>64</td>\n",
       "      <td>0</td>\n",
       "      <td>0</td>\n",
       "      <td>23.3</td>\n",
       "      <td>0.672</td>\n",
       "      <td>32</td>\n",
       "      <td>1</td>\n",
       "    </tr>\n",
       "    <tr>\n",
       "      <th>3</th>\n",
       "      <td>1</td>\n",
       "      <td>89</td>\n",
       "      <td>66</td>\n",
       "      <td>23</td>\n",
       "      <td>94</td>\n",
       "      <td>28.1</td>\n",
       "      <td>0.167</td>\n",
       "      <td>21</td>\n",
       "      <td>0</td>\n",
       "    </tr>\n",
       "    <tr>\n",
       "      <th>4</th>\n",
       "      <td>0</td>\n",
       "      <td>137</td>\n",
       "      <td>40</td>\n",
       "      <td>35</td>\n",
       "      <td>168</td>\n",
       "      <td>43.1</td>\n",
       "      <td>2.288</td>\n",
       "      <td>33</td>\n",
       "      <td>1</td>\n",
       "    </tr>\n",
       "    <tr>\n",
       "      <th>5</th>\n",
       "      <td>5</td>\n",
       "      <td>116</td>\n",
       "      <td>74</td>\n",
       "      <td>0</td>\n",
       "      <td>0</td>\n",
       "      <td>25.6</td>\n",
       "      <td>0.201</td>\n",
       "      <td>30</td>\n",
       "      <td>0</td>\n",
       "    </tr>\n",
       "    <tr>\n",
       "      <th>6</th>\n",
       "      <td>3</td>\n",
       "      <td>78</td>\n",
       "      <td>50</td>\n",
       "      <td>32</td>\n",
       "      <td>88</td>\n",
       "      <td>31.0</td>\n",
       "      <td>0.248</td>\n",
       "      <td>26</td>\n",
       "      <td>1</td>\n",
       "    </tr>\n",
       "    <tr>\n",
       "      <th>7</th>\n",
       "      <td>10</td>\n",
       "      <td>115</td>\n",
       "      <td>0</td>\n",
       "      <td>0</td>\n",
       "      <td>0</td>\n",
       "      <td>35.3</td>\n",
       "      <td>0.134</td>\n",
       "      <td>29</td>\n",
       "      <td>0</td>\n",
       "    </tr>\n",
       "    <tr>\n",
       "      <th>8</th>\n",
       "      <td>2</td>\n",
       "      <td>197</td>\n",
       "      <td>70</td>\n",
       "      <td>45</td>\n",
       "      <td>543</td>\n",
       "      <td>30.5</td>\n",
       "      <td>0.158</td>\n",
       "      <td>53</td>\n",
       "      <td>1</td>\n",
       "    </tr>\n",
       "    <tr>\n",
       "      <th>9</th>\n",
       "      <td>8</td>\n",
       "      <td>125</td>\n",
       "      <td>96</td>\n",
       "      <td>0</td>\n",
       "      <td>0</td>\n",
       "      <td>0.0</td>\n",
       "      <td>0.232</td>\n",
       "      <td>54</td>\n",
       "      <td>1</td>\n",
       "    </tr>\n",
       "  </tbody>\n",
       "</table>\n",
       "</div>"
      ],
      "text/plain": [
       "   Num_pregnant  Gluc_concent  Blood_press  Triceps  Insulin   BMI  Pedigree  \\\n",
       "0             6           148           72       35        0  33.6     0.627   \n",
       "1             1            85           66       29        0  26.6     0.351   \n",
       "2             8           183           64        0        0  23.3     0.672   \n",
       "3             1            89           66       23       94  28.1     0.167   \n",
       "4             0           137           40       35      168  43.1     2.288   \n",
       "5             5           116           74        0        0  25.6     0.201   \n",
       "6             3            78           50       32       88  31.0     0.248   \n",
       "7            10           115            0        0        0  35.3     0.134   \n",
       "8             2           197           70       45      543  30.5     0.158   \n",
       "9             8           125           96        0        0   0.0     0.232   \n",
       "\n",
       "   Age  Diagnosis  \n",
       "0   50          1  \n",
       "1   31          0  \n",
       "2   32          1  \n",
       "3   21          0  \n",
       "4   33          1  \n",
       "5   30          0  \n",
       "6   26          1  \n",
       "7   29          0  \n",
       "8   53          1  \n",
       "9   54          1  "
      ]
     },
     "execution_count": 7,
     "metadata": {},
     "output_type": "execute_result"
    }
   ],
   "source": [
    "diabetes.head(n=10)"
   ]
  },
  {
   "cell_type": "markdown",
   "metadata": {},
   "source": [
    "### Primera pregunta (1 punto) \n",
    "\n",
    "### Por lo visto en el dataset anterior, para  un caso de regresión logística en aprendizaje supervisado, ¿qué columnas son las variables que podríamos usar para realizar la clasificación y cuál es la columna que indica la etiqueta a la que se debe apuntar? Por favor, indíquelas."
   ]
  },
  {
   "cell_type": "markdown",
   "metadata": {},
   "source": [
    "\n",
    "columnas para realizar la clasificación:\n",
    "\n",
    "- Num_pregnant: Número de veces embarazada\n",
    "- Gluc_concent: Concentración de glucosa en plasma a las 2 horas en una prueba de tolerancia oral a la glucosa\n",
    "- Blood_press: Presión arterial diastólica (mm Hg)\n",
    "- Triceps: Grosor del pliegue cutáneo del tríceps (mm)\n",
    "- Insulin:Insulina sérica de 2 horas (muU/ml)\n",
    "- BMI: Índice de masa corporal (peso en kg/(altura en m)^2)\n",
    "- Pedigree: Función de pedigrí de diabetes\n",
    "- Age: Edad en años\n",
    "\n",
    "columna que indica a la etiqueta es :\n",
    "\n",
    "- Diagnosis: que toma valores binarios (0 o 1) que indican si el paciente muestra signos de diabetes según los criterios de la Organización Mundial de la Salud."
   ]
  },
  {
   "cell_type": "markdown",
   "metadata": {},
   "source": [
    "Los tipos de cada columna se pueden explorar de la siguiente manera:"
   ]
  },
  {
   "cell_type": "code",
   "execution_count": 8,
   "metadata": {},
   "outputs": [
    {
     "data": {
      "text/plain": [
       "Num_pregnant      int64\n",
       "Gluc_concent      int64\n",
       "Blood_press       int64\n",
       "Triceps           int64\n",
       "Insulin           int64\n",
       "BMI             float64\n",
       "Pedigree        float64\n",
       "Age               int64\n",
       "Diagnosis         int64\n",
       "dtype: object"
      ]
     },
     "execution_count": 8,
     "metadata": {},
     "output_type": "execute_result"
    }
   ],
   "source": [
    "diabetes.dtypes"
   ]
  },
  {
   "cell_type": "markdown",
   "metadata": {},
   "source": [
    "### Segunda pregunta (1 punto)\n",
    "\n",
    "### Haciendo uso de la función de pandas `isnull().sum()`, compruebe si hay `missing_values` en el dataset facilitado."
   ]
  },
  {
   "cell_type": "code",
   "execution_count": 12,
   "metadata": {},
   "outputs": [
    {
     "data": {
      "text/plain": [
       "Num_pregnant    0\n",
       "Gluc_concent    0\n",
       "Blood_press     0\n",
       "Triceps         0\n",
       "Insulin         0\n",
       "BMI             0\n",
       "Pedigree        0\n",
       "Age             0\n",
       "Diagnosis       0\n",
       "dtype: int64"
      ]
     },
     "execution_count": 12,
     "metadata": {},
     "output_type": "execute_result"
    }
   ],
   "source": [
    "diabetes.isnull().sum(axis=0)"
   ]
  },
  {
   "cell_type": "markdown",
   "metadata": {},
   "source": [
    "En la dataset no cuenta con valores nulos"
   ]
  },
  {
   "cell_type": "code",
   "execution_count": null,
   "metadata": {},
   "outputs": [],
   "source": []
  },
  {
   "cell_type": "markdown",
   "metadata": {},
   "source": [
    "### Visualización de datos"
   ]
  },
  {
   "cell_type": "markdown",
   "metadata": {},
   "source": [
    "### Tercera pregunta (2 puntos)\n",
    " \n",
    "### a) Haciendo uso de `df.hist()`, ejecute las siguientes líneas de código. (0.5 puntos)"
   ]
  },
  {
   "cell_type": "raw",
   "metadata": {},
   "source": [
    "Puede que resulte necesario corre dos veces la siguiente línea de código dado lo pesado del gráfico."
   ]
  },
  {
   "cell_type": "code",
   "execution_count": 9,
   "metadata": {
    "scrolled": false
   },
   "outputs": [
    {
     "data": {
      "image/png": "[encoded data removed]",
      "text/plain": [
       "<Figure size 1440x1080 with 9 Axes>"
      ]
     },
     "metadata": {
      "needs_background": "light"
     },
     "output_type": "display_data"
    }
   ],
   "source": [
    "import matplotlib.pyplot as plt\n",
    "diabetes.hist(bins = 50, figsize=(20, 15))\n",
    "plt.show()"
   ]
  },
  {
   "cell_type": "markdown",
   "metadata": {},
   "source": [
    "Se pueden obtener más detalles de nuestro dataset almacenados en `pandas` a través del comando `df.describe()`."
   ]
  },
  {
   "cell_type": "code",
   "execution_count": 14,
   "metadata": {
    "scrolled": true
   },
   "outputs": [
    {
     "data": {
      "text/html": [
       "<div>\n",
       "<style scoped>\n",
       "    .dataframe tbody tr th:only-of-type {\n",
       "        vertical-align: middle;\n",
       "    }\n",
       "\n",
       "    .dataframe tbody tr th {\n",
       "        vertical-align: top;\n",
       "    }\n",
       "\n",
       "    .dataframe thead th {\n",
       "        text-align: right;\n",
       "    }\n",
       "</style>\n",
       "<table border=\"1\" class=\"dataframe\">\n",
       "  <thead>\n",
       "    <tr style=\"text-align: right;\">\n",
       "      <th></th>\n",
       "      <th>Num_pregnant</th>\n",
       "      <th>Gluc_concent</th>\n",
       "      <th>Blood_press</th>\n",
       "      <th>Triceps</th>\n",
       "      <th>Insulin</th>\n",
       "      <th>BMI</th>\n",
       "      <th>Pedigree</th>\n",
       "      <th>Age</th>\n",
       "      <th>Diagnosis</th>\n",
       "    </tr>\n",
       "  </thead>\n",
       "  <tbody>\n",
       "    <tr>\n",
       "      <th>count</th>\n",
       "      <td>768.000000</td>\n",
       "      <td>768.000000</td>\n",
       "      <td>768.000000</td>\n",
       "      <td>768.000000</td>\n",
       "      <td>768.000000</td>\n",
       "      <td>768.000000</td>\n",
       "      <td>768.000000</td>\n",
       "      <td>768.000000</td>\n",
       "      <td>768.000000</td>\n",
       "    </tr>\n",
       "    <tr>\n",
       "      <th>mean</th>\n",
       "      <td>3.845052</td>\n",
       "      <td>120.894531</td>\n",
       "      <td>69.105469</td>\n",
       "      <td>20.536458</td>\n",
       "      <td>79.799479</td>\n",
       "      <td>31.992578</td>\n",
       "      <td>0.471876</td>\n",
       "      <td>33.240885</td>\n",
       "      <td>0.348958</td>\n",
       "    </tr>\n",
       "    <tr>\n",
       "      <th>std</th>\n",
       "      <td>3.369578</td>\n",
       "      <td>31.972618</td>\n",
       "      <td>19.355807</td>\n",
       "      <td>15.952218</td>\n",
       "      <td>115.244002</td>\n",
       "      <td>7.884160</td>\n",
       "      <td>0.331329</td>\n",
       "      <td>11.760232</td>\n",
       "      <td>0.476951</td>\n",
       "    </tr>\n",
       "    <tr>\n",
       "      <th>min</th>\n",
       "      <td>0.000000</td>\n",
       "      <td>0.000000</td>\n",
       "      <td>0.000000</td>\n",
       "      <td>0.000000</td>\n",
       "      <td>0.000000</td>\n",
       "      <td>0.000000</td>\n",
       "      <td>0.078000</td>\n",
       "      <td>21.000000</td>\n",
       "      <td>0.000000</td>\n",
       "    </tr>\n",
       "    <tr>\n",
       "      <th>25%</th>\n",
       "      <td>1.000000</td>\n",
       "      <td>99.000000</td>\n",
       "      <td>62.000000</td>\n",
       "      <td>0.000000</td>\n",
       "      <td>0.000000</td>\n",
       "      <td>27.300000</td>\n",
       "      <td>0.243750</td>\n",
       "      <td>24.000000</td>\n",
       "      <td>0.000000</td>\n",
       "    </tr>\n",
       "    <tr>\n",
       "      <th>50%</th>\n",
       "      <td>3.000000</td>\n",
       "      <td>117.000000</td>\n",
       "      <td>72.000000</td>\n",
       "      <td>23.000000</td>\n",
       "      <td>30.500000</td>\n",
       "      <td>32.000000</td>\n",
       "      <td>0.372500</td>\n",
       "      <td>29.000000</td>\n",
       "      <td>0.000000</td>\n",
       "    </tr>\n",
       "    <tr>\n",
       "      <th>75%</th>\n",
       "      <td>6.000000</td>\n",
       "      <td>140.250000</td>\n",
       "      <td>80.000000</td>\n",
       "      <td>32.000000</td>\n",
       "      <td>127.250000</td>\n",
       "      <td>36.600000</td>\n",
       "      <td>0.626250</td>\n",
       "      <td>41.000000</td>\n",
       "      <td>1.000000</td>\n",
       "    </tr>\n",
       "    <tr>\n",
       "      <th>max</th>\n",
       "      <td>17.000000</td>\n",
       "      <td>199.000000</td>\n",
       "      <td>122.000000</td>\n",
       "      <td>99.000000</td>\n",
       "      <td>846.000000</td>\n",
       "      <td>67.100000</td>\n",
       "      <td>2.420000</td>\n",
       "      <td>81.000000</td>\n",
       "      <td>1.000000</td>\n",
       "    </tr>\n",
       "  </tbody>\n",
       "</table>\n",
       "</div>"
      ],
      "text/plain": [
       "       Num_pregnant  Gluc_concent  Blood_press     Triceps     Insulin  \\\n",
       "count    768.000000    768.000000   768.000000  768.000000  768.000000   \n",
       "mean       3.845052    120.894531    69.105469   20.536458   79.799479   \n",
       "std        3.369578     31.972618    19.355807   15.952218  115.244002   \n",
       "min        0.000000      0.000000     0.000000    0.000000    0.000000   \n",
       "25%        1.000000     99.000000    62.000000    0.000000    0.000000   \n",
       "50%        3.000000    117.000000    72.000000   23.000000   30.500000   \n",
       "75%        6.000000    140.250000    80.000000   32.000000  127.250000   \n",
       "max       17.000000    199.000000   122.000000   99.000000  846.000000   \n",
       "\n",
       "              BMI    Pedigree         Age   Diagnosis  \n",
       "count  768.000000  768.000000  768.000000  768.000000  \n",
       "mean    31.992578    0.471876   33.240885    0.348958  \n",
       "std      7.884160    0.331329   11.760232    0.476951  \n",
       "min      0.000000    0.078000   21.000000    0.000000  \n",
       "25%     27.300000    0.243750   24.000000    0.000000  \n",
       "50%     32.000000    0.372500   29.000000    0.000000  \n",
       "75%     36.600000    0.626250   41.000000    1.000000  \n",
       "max     67.100000    2.420000   81.000000    1.000000  "
      ]
     },
     "execution_count": 14,
     "metadata": {},
     "output_type": "execute_result"
    }
   ],
   "source": [
    "diabetes.describe()"
   ]
  },
  {
   "cell_type": "markdown",
   "metadata": {},
   "source": [
    "### b) Vemos que hay algunas características del dataset que tienen un valor mínimo sin ningún sentido lógico. ¿Qué características o variables considera que habría que modificar para eliminar esos registros nulos que carecen de sentido? (0.5 puntos)"
   ]
  },
  {
   "cell_type": "markdown",
   "metadata": {},
   "source": [
    "\n",
    "Las características de dataset con un valor mínimo son sin mucho sentido son: \n",
    "- Gluc_concent\n",
    "- Blood_press\n",
    "- Triceps\t\n",
    "- Insulin\n",
    "- BMI\n",
    "\n",
    "En la descripción de los datos se puede observar que los valores mínimos son cero, lo que cual no tiene sentido biológico para estas características. Por ejemplo, una persona no puede tener una concentración de glucosa en plasma de cero o un nivel de insulina de cero, el indice de masa corporal tampoco debe ser cero. En estos casos, los valores mínimos probablemente representan valores faltantes que se han codificado como cero. Estas variables se deben modificar y se puede hacer con un promedio o rellenando los valores con NaN.\n"
   ]
  },
  {
   "cell_type": "markdown",
   "metadata": {},
   "source": [
    "### c) ¿Cuál es la relación $\\Gamma = \\frac{diabeticos}{\\neg diabeticos}$? ¿Está nuestro dataset balanceado? Si es así, justificar. De lo contrario, indicar qué clase está subrepresentada. (0.5 puntos)"
   ]
  },
  {
   "cell_type": "code",
   "execution_count": 17,
   "metadata": {},
   "outputs": [
    {
     "data": {
      "text/plain": [
       "0    500\n",
       "1    268\n",
       "Name: Diagnosis, dtype: int64"
      ]
     },
     "execution_count": 17,
     "metadata": {},
     "output_type": "execute_result"
    }
   ],
   "source": [
    "diabetes['Diagnosis'].value_counts()"
   ]
  },
  {
   "cell_type": "markdown",
   "metadata": {},
   "source": [
    "Por lo tanto, el número de pacientes sin diabetes es 500 y el número de pacientes con diabetes es 268, lo que significa que la relación Γ es:\n",
    "\n",
    " Γ = 500 / 268 = 1.87\n",
    "\n",
    "Como Γ es mayor que 1, esto indica que la clase negativa (pacientes sin diabetes) está sobre representada en comparación con la clase positiva (pacientes con diabetes). Por lo tanto, podemos decir que el conjunto de datos no está balanceado y la clase positiva (pacientes con diabetes) está subrepresentada. Esto es importante tener en cuenta al realizar cualquier análisis de clasificación, ya que los modelos pueden tener un sesgo hacia la clase dominante y no ser capaces de detectar bien la clase minoritaria."
   ]
  },
  {
   "cell_type": "markdown",
   "metadata": {},
   "source": [
    "### d) ¿Qué alternativas de actuación sobre el dataset propone para compensar la posible subrepresentación de una clase? (0.5 puntos)"
   ]
  },
  {
   "cell_type": "markdown",
   "metadata": {},
   "source": [
    "- Recopilar más datos: se pueden recopilar más datos de la clase subrepresentada para aumentar su presencia en el dataset.\n",
    "\n",
    "- Aumentar artificialmente la clase subrepresentada: utilizar técnicas de aumentación de datos para generar más ejemplos de la clase subrepresentada, como por ejemplo la rotación, el zoom o el desplazamiento.\n",
    "\n",
    "- Reducir la clase mayoritaria: Si la clase mayoritaria está sobrerrepresentada, se puede reducir su número de ejemplos mediante técnicas de submuestreo como el submuestreo aleatorio o el submuestreo basado en centroides.\n",
    "\n",
    "- Utilizar algoritmos de aprendizaje no balanceados: Algunos algoritmos de aprendizaje, como por ejemplo la regresión logística o el árbol de decisión, pueden manejar datos desequilibrados sin necesidad de preprocesamiento especial.\n",
    "\n",
    "- Utilizar técnicas de sobremuestreo: Algunas técnicas de sobremuestreo, como la generación sintética de minorías (SMOTE), pueden generar nuevos ejemplos de la clase subrepresentada para mejorar su representación en el dataset."
   ]
  },
  {
   "cell_type": "markdown",
   "metadata": {},
   "source": [
    "____\n",
    "## Limpieza y procesado de datos"
   ]
  },
  {
   "cell_type": "markdown",
   "metadata": {},
   "source": [
    "Los algoritmos de Machine Learning no suelen funcionar muy bien cuando faltan datos en los mismos, ya sea por la presencia de `missing values` o por la presencia de $0s$, por lo que debemos encontrar una solución para mitigar estos efectos.\n",
    "\n"
   ]
  },
  {
   "cell_type": "markdown",
   "metadata": {
    "collapsed": true
   },
   "source": [
    "Efectivamente, la presencia de missing values o de valores nulos puede afectar negativamente el desempeño de los algoritmos de Machine Learning. Esto se debe a que estos algoritmos requieren de datos completos y bien estructurados para poder realizar una buena predicción o clasificación.\n",
    "\n",
    "En el caso de los valores nulos o 0s que no tienen sentido lógico, es recomendable eliminar las filas que los contienen o bien, reemplazarlos por valores que sí tengan sentido en el contexto del dataset. Por ejemplo, en el caso de los valores mínimos que no tienen sentido lógico en nuestro dataset de Pima Indians Diabetes, podríamos reemplazarlos por el valor medio de la columna correspondiente.\n",
    "\n",
    "En cuanto a los missing values, existen varias alternativas para su tratamiento. Una opción es eliminar las filas que contienen missing values, siempre y cuando no sean un número significativo de filas. Otra opción es reemplazar los missing values por un valor que tenga sentido en el contexto del dataset, como puede ser la media, la mediana o la moda de la columna correspondiente. También existen técnicas más avanzadas como la imputación de valores faltantes mediante algoritmos de Machine Learning, como el algoritmo K-Nearest Neighbors o el algoritmo de Regresión Lineal.\n",
    "\n",
    "Es importante tener en cuenta que cualquier técnica de imputación o eliminación de missing values debe ser aplicada con cuidado y en función del contexto específico del dataset, para evitar sesgar los resultados del análisis o del modelo de Machine Learning.\n"
   ]
  },
  {
   "cell_type": "markdown",
   "metadata": {},
   "source": [
    "### Cuarta pregunta (1 puntos)\n",
    "\n",
    "### ¿Cuál es el porcentaje de datos nulos de insulina en el dataset (en la columna `insuline`)? ¿Ve conveniente eliminar todas aquellas filas donde nos falte alguna variable? Justifique su respuesta."
   ]
  },
  {
   "cell_type": "code",
   "execution_count": 20,
   "metadata": {},
   "outputs": [
    {
     "data": {
      "text/plain": [
       "48.69791666666667"
      ]
     },
     "execution_count": 20,
     "metadata": {},
     "output_type": "execute_result"
    }
   ],
   "source": [
    "(diabetes['Insulin']==0).sum() / len(diabetes) * 100"
   ]
  },
  {
   "cell_type": "markdown",
   "metadata": {},
   "source": [
    "La columna insulina tiene valores nulos que se indican con el valor 0, por lo que debemos considerarlos como missing values y no como valores válidos. El porcentaje de valores nulos de insulina en el dataset es del 48,70%, lo que indica que casi la mitad de los registros no tienen información sobre la cantidad de insulina en sangre.\n",
    "\n",
    "Respecto a eliminar aquellas filas donde nos falte alguna variable, no es una buena práctica hacerlo de forma indiscriminada, ya que podemos perder información valiosa y reducir significativamente el tamaño del dataset. En cambio, es recomendable imputar los valores faltantes mediante alguna técnica de imputación, como la media, la mediana o la moda, o utilizar algoritmos de aprendizaje que puedan manejar valores nulos de forma explícita. En cualquier caso, es importante evaluar el impacto que tiene la imputación de valores faltantes sobre los resultados del modelo y tener en cuenta que puede introducir sesgos o ruido en los datos."
   ]
  },
  {
   "cell_type": "markdown",
   "metadata": {},
   "source": [
    "Una opción reside en calcular el valor mediano para una columna específica y sustituir ese valor en todas partes (en la misma columna) donde tenemos cero o nulo. \n",
    "\n",
    "A continuación se incluye una pequeña ayuda en forma de pseudocódigo para sustituir los ceros por la mediana de una columna."
   ]
  },
  {
   "cell_type": "code",
   "execution_count": 11,
   "metadata": {},
   "outputs": [],
   "source": [
    "median_var = diabetes['Insulin'].median()\n",
    "# Sustituimos los valores nulos del índice de una determinada variable por la mediana\n",
    "diabetes['Insulin'] = diabetes['Insulin'].replace(to_replace = 0, value = median_var)"
   ]
  },
  {
   "cell_type": "code",
   "execution_count": null,
   "metadata": {},
   "outputs": [],
   "source": []
  },
  {
   "cell_type": "markdown",
   "metadata": {},
   "source": [
    "### Quinta pregunta (1 puntos)\n",
    "\n",
    "### a) Realice la sustitución indicada arriba por la mediana en todas aquellas variables que considere que contienen valores sin sentido (en relación con la pregunta 3.b.) (5 puntos)"
   ]
  },
  {
   "cell_type": "code",
   "execution_count": 12,
   "metadata": {},
   "outputs": [],
   "source": [
    "mediana_pregnancies = diabetes[\"Num_pregnant\"].median()\n",
    "mediana_glucose = diabetes[\"Gluc_concent\"].median()\n",
    "mediana_blood_pressure = diabetes[\"Blood_press\"].median()\n",
    "mediana_skin_thickness = diabetes[\"Triceps\"].median()\n",
    "mediana_insulin = diabetes[\"Insulin\"].median()\n",
    "mediana_bmi = diabetes[\"BMI\"].median()\n"
   ]
  },
  {
   "cell_type": "code",
   "execution_count": 17,
   "metadata": {},
   "outputs": [],
   "source": [
    "diabetes[\"Num_pregnant\"] =  diabetes[\"Num_pregnant\"].replace(0, mediana_pregnancies)\n",
    "diabetes[\"Gluc_concent\"] =  diabetes[\"Gluc_concent\"].replace(0, mediana_glucose)\n",
    "diabetes[\"Blood_press\"] =  diabetes[\"Blood_press\"].replace(0, mediana_blood_pressure)\n",
    "diabetes[\"Triceps\"] =  diabetes[\"Triceps\"].replace(0, mediana_skin_thickness)\n",
    "diabetes[\"Insulin\"] =  diabetes[\"Insulin\"].replace(0, mediana_insulin)\n",
    "diabetes[\"BMI\"] =  diabetes[\"BMI\"].replace(0, mediana_bmi)"
   ]
  },
  {
   "cell_type": "markdown",
   "metadata": {},
   "source": [
    "### b) Vuelva a ejecutar el comando `diabetes.describe()`. ¿Cuál es la única variable que debe tener como valor mínimo $0$ tras haber hecho la sustitución de los valores nulos por su mediana? (0,5 puntos)"
   ]
  },
  {
   "cell_type": "code",
   "execution_count": 18,
   "metadata": {},
   "outputs": [
    {
     "data": {
      "text/html": [
       "<div>\n",
       "<style scoped>\n",
       "    .dataframe tbody tr th:only-of-type {\n",
       "        vertical-align: middle;\n",
       "    }\n",
       "\n",
       "    .dataframe tbody tr th {\n",
       "        vertical-align: top;\n",
       "    }\n",
       "\n",
       "    .dataframe thead th {\n",
       "        text-align: right;\n",
       "    }\n",
       "</style>\n",
       "<table border=\"1\" class=\"dataframe\">\n",
       "  <thead>\n",
       "    <tr style=\"text-align: right;\">\n",
       "      <th></th>\n",
       "      <th>Num_pregnant</th>\n",
       "      <th>Gluc_concent</th>\n",
       "      <th>Blood_press</th>\n",
       "      <th>Triceps</th>\n",
       "      <th>Insulin</th>\n",
       "      <th>BMI</th>\n",
       "      <th>Pedigree</th>\n",
       "      <th>Age</th>\n",
       "      <th>Diagnosis</th>\n",
       "    </tr>\n",
       "  </thead>\n",
       "  <tbody>\n",
       "    <tr>\n",
       "      <th>count</th>\n",
       "      <td>768.000000</td>\n",
       "      <td>768.000000</td>\n",
       "      <td>768.000000</td>\n",
       "      <td>768.000000</td>\n",
       "      <td>768.000000</td>\n",
       "      <td>768.000000</td>\n",
       "      <td>768.000000</td>\n",
       "      <td>768.000000</td>\n",
       "      <td>768.000000</td>\n",
       "    </tr>\n",
       "    <tr>\n",
       "      <th>mean</th>\n",
       "      <td>4.278646</td>\n",
       "      <td>121.656250</td>\n",
       "      <td>72.386719</td>\n",
       "      <td>27.334635</td>\n",
       "      <td>94.652344</td>\n",
       "      <td>32.450911</td>\n",
       "      <td>0.471876</td>\n",
       "      <td>33.240885</td>\n",
       "      <td>0.348958</td>\n",
       "    </tr>\n",
       "    <tr>\n",
       "      <th>std</th>\n",
       "      <td>3.021516</td>\n",
       "      <td>30.438286</td>\n",
       "      <td>12.096642</td>\n",
       "      <td>9.229014</td>\n",
       "      <td>105.547598</td>\n",
       "      <td>6.875366</td>\n",
       "      <td>0.331329</td>\n",
       "      <td>11.760232</td>\n",
       "      <td>0.476951</td>\n",
       "    </tr>\n",
       "    <tr>\n",
       "      <th>min</th>\n",
       "      <td>1.000000</td>\n",
       "      <td>44.000000</td>\n",
       "      <td>24.000000</td>\n",
       "      <td>7.000000</td>\n",
       "      <td>14.000000</td>\n",
       "      <td>18.200000</td>\n",
       "      <td>0.078000</td>\n",
       "      <td>21.000000</td>\n",
       "      <td>0.000000</td>\n",
       "    </tr>\n",
       "    <tr>\n",
       "      <th>25%</th>\n",
       "      <td>2.000000</td>\n",
       "      <td>99.750000</td>\n",
       "      <td>64.000000</td>\n",
       "      <td>23.000000</td>\n",
       "      <td>30.500000</td>\n",
       "      <td>27.500000</td>\n",
       "      <td>0.243750</td>\n",
       "      <td>24.000000</td>\n",
       "      <td>0.000000</td>\n",
       "    </tr>\n",
       "    <tr>\n",
       "      <th>50%</th>\n",
       "      <td>3.000000</td>\n",
       "      <td>117.000000</td>\n",
       "      <td>72.000000</td>\n",
       "      <td>23.000000</td>\n",
       "      <td>31.250000</td>\n",
       "      <td>32.000000</td>\n",
       "      <td>0.372500</td>\n",
       "      <td>29.000000</td>\n",
       "      <td>0.000000</td>\n",
       "    </tr>\n",
       "    <tr>\n",
       "      <th>75%</th>\n",
       "      <td>6.000000</td>\n",
       "      <td>140.250000</td>\n",
       "      <td>80.000000</td>\n",
       "      <td>32.000000</td>\n",
       "      <td>127.250000</td>\n",
       "      <td>36.600000</td>\n",
       "      <td>0.626250</td>\n",
       "      <td>41.000000</td>\n",
       "      <td>1.000000</td>\n",
       "    </tr>\n",
       "    <tr>\n",
       "      <th>max</th>\n",
       "      <td>17.000000</td>\n",
       "      <td>199.000000</td>\n",
       "      <td>122.000000</td>\n",
       "      <td>99.000000</td>\n",
       "      <td>846.000000</td>\n",
       "      <td>67.100000</td>\n",
       "      <td>2.420000</td>\n",
       "      <td>81.000000</td>\n",
       "      <td>1.000000</td>\n",
       "    </tr>\n",
       "  </tbody>\n",
       "</table>\n",
       "</div>"
      ],
      "text/plain": [
       "       Num_pregnant  Gluc_concent  Blood_press     Triceps     Insulin  \\\n",
       "count    768.000000    768.000000   768.000000  768.000000  768.000000   \n",
       "mean       4.278646    121.656250    72.386719   27.334635   94.652344   \n",
       "std        3.021516     30.438286    12.096642    9.229014  105.547598   \n",
       "min        1.000000     44.000000    24.000000    7.000000   14.000000   \n",
       "25%        2.000000     99.750000    64.000000   23.000000   30.500000   \n",
       "50%        3.000000    117.000000    72.000000   23.000000   31.250000   \n",
       "75%        6.000000    140.250000    80.000000   32.000000  127.250000   \n",
       "max       17.000000    199.000000   122.000000   99.000000  846.000000   \n",
       "\n",
       "              BMI    Pedigree         Age   Diagnosis  \n",
       "count  768.000000  768.000000  768.000000  768.000000  \n",
       "mean    32.450911    0.471876   33.240885    0.348958  \n",
       "std      6.875366    0.331329   11.760232    0.476951  \n",
       "min     18.200000    0.078000   21.000000    0.000000  \n",
       "25%     27.500000    0.243750   24.000000    0.000000  \n",
       "50%     32.000000    0.372500   29.000000    0.000000  \n",
       "75%     36.600000    0.626250   41.000000    1.000000  \n",
       "max     67.100000    2.420000   81.000000    1.000000  "
      ]
     },
     "execution_count": 18,
     "metadata": {},
     "output_type": "execute_result"
    }
   ],
   "source": [
    "diabetes.describe()"
   ]
  },
  {
   "cell_type": "markdown",
   "metadata": {},
   "source": [
    "Vuelva a ejecutar el siguiento comando para la visualización de datos:"
   ]
  },
  {
   "cell_type": "code",
   "execution_count": 19,
   "metadata": {},
   "outputs": [
    {
     "data": {
      "image/png": "[encoded data removed]",
      "text/plain": [
       "<Figure size 1440x1080 with 9 Axes>"
      ]
     },
     "metadata": {
      "needs_background": "light"
     },
     "output_type": "display_data"
    }
   ],
   "source": [
    "import matplotlib.pyplot as plt\n",
    "diabetes.hist(bins = 50, figsize=(20, 15))\n",
    "plt.show()"
   ]
  },
  {
   "cell_type": "markdown",
   "metadata": {},
   "source": [
    "### Normalizado del dataset"
   ]
  },
  {
   "cell_type": "code",
   "execution_count": null,
   "metadata": {},
   "outputs": [],
   "source": [
    "Normalizar el dataset para su uso en ciertos algoritmos de Machine Learning se convierte en tarea imprescindible"
   ]
  },
  {
   "cell_type": "markdown",
   "metadata": {},
   "source": [
    "### Sexta pregunta (2 puntos) "
   ]
  },
  {
   "cell_type": "markdown",
   "metadata": {},
   "source": [
    "### a) Escale las caracteríticas del dataset que considere necesarias entre `0` y `1` para su posterior uso en una regresión logítica binaria. (1 puntos)"
   ]
  },
  {
   "cell_type": "markdown",
   "metadata": {},
   "source": [
    "#### Pista: para hacerlo rápidamente, puede definir una lista `cols_to_norm` con las columnas a normalizar e incluir la función a usar en el escalado e iterar en bucle:"
   ]
  },
  {
   "cell_type": "code",
   "execution_count": 20,
   "metadata": {},
   "outputs": [],
   "source": [
    "cols_to_norm = ['Num_pregnant', 'Gluc_concent', 'Blood_press', 'Triceps', 'Insulin', 'BMI', 'Age', 'Pedigree']"
   ]
  },
  {
   "cell_type": "raw",
   "metadata": {},
   "source": [
    "cols_to_norm = [ ... ]"
   ]
  },
  {
   "cell_type": "code",
   "execution_count": 21,
   "metadata": {},
   "outputs": [],
   "source": [
    "for item in cols_to_norm:\n",
    "    diabetes[item]= (diabetes[item] - np.min(diabetes[item]))/(np.max(diabetes[item]) - np.min(diabetes[item]))"
   ]
  },
  {
   "cell_type": "markdown",
   "metadata": {},
   "source": [
    "Ejecute de nuevo los siguientes comandos:"
   ]
  },
  {
   "cell_type": "code",
   "execution_count": 22,
   "metadata": {},
   "outputs": [
    {
     "data": {
      "text/html": [
       "<div>\n",
       "<style scoped>\n",
       "    .dataframe tbody tr th:only-of-type {\n",
       "        vertical-align: middle;\n",
       "    }\n",
       "\n",
       "    .dataframe tbody tr th {\n",
       "        vertical-align: top;\n",
       "    }\n",
       "\n",
       "    .dataframe thead th {\n",
       "        text-align: right;\n",
       "    }\n",
       "</style>\n",
       "<table border=\"1\" class=\"dataframe\">\n",
       "  <thead>\n",
       "    <tr style=\"text-align: right;\">\n",
       "      <th></th>\n",
       "      <th>Num_pregnant</th>\n",
       "      <th>Gluc_concent</th>\n",
       "      <th>Blood_press</th>\n",
       "      <th>Triceps</th>\n",
       "      <th>Insulin</th>\n",
       "      <th>BMI</th>\n",
       "      <th>Pedigree</th>\n",
       "      <th>Age</th>\n",
       "      <th>Diagnosis</th>\n",
       "    </tr>\n",
       "  </thead>\n",
       "  <tbody>\n",
       "    <tr>\n",
       "      <th>0</th>\n",
       "      <td>0.3125</td>\n",
       "      <td>0.670968</td>\n",
       "      <td>0.489796</td>\n",
       "      <td>0.304348</td>\n",
       "      <td>0.019832</td>\n",
       "      <td>0.314928</td>\n",
       "      <td>0.234415</td>\n",
       "      <td>0.483333</td>\n",
       "      <td>1</td>\n",
       "    </tr>\n",
       "    <tr>\n",
       "      <th>1</th>\n",
       "      <td>0.0000</td>\n",
       "      <td>0.264516</td>\n",
       "      <td>0.428571</td>\n",
       "      <td>0.239130</td>\n",
       "      <td>0.019832</td>\n",
       "      <td>0.171779</td>\n",
       "      <td>0.116567</td>\n",
       "      <td>0.166667</td>\n",
       "      <td>0</td>\n",
       "    </tr>\n",
       "    <tr>\n",
       "      <th>2</th>\n",
       "      <td>0.4375</td>\n",
       "      <td>0.896774</td>\n",
       "      <td>0.408163</td>\n",
       "      <td>0.173913</td>\n",
       "      <td>0.019832</td>\n",
       "      <td>0.104294</td>\n",
       "      <td>0.253629</td>\n",
       "      <td>0.183333</td>\n",
       "      <td>1</td>\n",
       "    </tr>\n",
       "    <tr>\n",
       "      <th>3</th>\n",
       "      <td>0.0000</td>\n",
       "      <td>0.290323</td>\n",
       "      <td>0.428571</td>\n",
       "      <td>0.173913</td>\n",
       "      <td>0.096154</td>\n",
       "      <td>0.202454</td>\n",
       "      <td>0.038002</td>\n",
       "      <td>0.000000</td>\n",
       "      <td>0</td>\n",
       "    </tr>\n",
       "    <tr>\n",
       "      <th>4</th>\n",
       "      <td>0.1250</td>\n",
       "      <td>0.600000</td>\n",
       "      <td>0.163265</td>\n",
       "      <td>0.304348</td>\n",
       "      <td>0.185096</td>\n",
       "      <td>0.509202</td>\n",
       "      <td>0.943638</td>\n",
       "      <td>0.200000</td>\n",
       "      <td>1</td>\n",
       "    </tr>\n",
       "    <tr>\n",
       "      <th>5</th>\n",
       "      <td>0.2500</td>\n",
       "      <td>0.464516</td>\n",
       "      <td>0.510204</td>\n",
       "      <td>0.173913</td>\n",
       "      <td>0.019832</td>\n",
       "      <td>0.151329</td>\n",
       "      <td>0.052519</td>\n",
       "      <td>0.150000</td>\n",
       "      <td>0</td>\n",
       "    </tr>\n",
       "    <tr>\n",
       "      <th>6</th>\n",
       "      <td>0.1250</td>\n",
       "      <td>0.219355</td>\n",
       "      <td>0.265306</td>\n",
       "      <td>0.271739</td>\n",
       "      <td>0.088942</td>\n",
       "      <td>0.261759</td>\n",
       "      <td>0.072588</td>\n",
       "      <td>0.083333</td>\n",
       "      <td>1</td>\n",
       "    </tr>\n",
       "    <tr>\n",
       "      <th>7</th>\n",
       "      <td>0.5625</td>\n",
       "      <td>0.458065</td>\n",
       "      <td>0.489796</td>\n",
       "      <td>0.173913</td>\n",
       "      <td>0.019832</td>\n",
       "      <td>0.349693</td>\n",
       "      <td>0.023911</td>\n",
       "      <td>0.133333</td>\n",
       "      <td>0</td>\n",
       "    </tr>\n",
       "    <tr>\n",
       "      <th>8</th>\n",
       "      <td>0.0625</td>\n",
       "      <td>0.987097</td>\n",
       "      <td>0.469388</td>\n",
       "      <td>0.413043</td>\n",
       "      <td>0.635817</td>\n",
       "      <td>0.251534</td>\n",
       "      <td>0.034159</td>\n",
       "      <td>0.533333</td>\n",
       "      <td>1</td>\n",
       "    </tr>\n",
       "    <tr>\n",
       "      <th>9</th>\n",
       "      <td>0.4375</td>\n",
       "      <td>0.522581</td>\n",
       "      <td>0.734694</td>\n",
       "      <td>0.173913</td>\n",
       "      <td>0.019832</td>\n",
       "      <td>0.282209</td>\n",
       "      <td>0.065756</td>\n",
       "      <td>0.550000</td>\n",
       "      <td>1</td>\n",
       "    </tr>\n",
       "  </tbody>\n",
       "</table>\n",
       "</div>"
      ],
      "text/plain": [
       "   Num_pregnant  Gluc_concent  Blood_press   Triceps   Insulin       BMI  \\\n",
       "0        0.3125      0.670968     0.489796  0.304348  0.019832  0.314928   \n",
       "1        0.0000      0.264516     0.428571  0.239130  0.019832  0.171779   \n",
       "2        0.4375      0.896774     0.408163  0.173913  0.019832  0.104294   \n",
       "3        0.0000      0.290323     0.428571  0.173913  0.096154  0.202454   \n",
       "4        0.1250      0.600000     0.163265  0.304348  0.185096  0.509202   \n",
       "5        0.2500      0.464516     0.510204  0.173913  0.019832  0.151329   \n",
       "6        0.1250      0.219355     0.265306  0.271739  0.088942  0.261759   \n",
       "7        0.5625      0.458065     0.489796  0.173913  0.019832  0.349693   \n",
       "8        0.0625      0.987097     0.469388  0.413043  0.635817  0.251534   \n",
       "9        0.4375      0.522581     0.734694  0.173913  0.019832  0.282209   \n",
       "\n",
       "   Pedigree       Age  Diagnosis  \n",
       "0  0.234415  0.483333          1  \n",
       "1  0.116567  0.166667          0  \n",
       "2  0.253629  0.183333          1  \n",
       "3  0.038002  0.000000          0  \n",
       "4  0.943638  0.200000          1  \n",
       "5  0.052519  0.150000          0  \n",
       "6  0.072588  0.083333          1  \n",
       "7  0.023911  0.133333          0  \n",
       "8  0.034159  0.533333          1  \n",
       "9  0.065756  0.550000          1  "
      ]
     },
     "execution_count": 22,
     "metadata": {},
     "output_type": "execute_result"
    }
   ],
   "source": [
    "diabetes.head(n=10)"
   ]
  },
  {
   "cell_type": "code",
   "execution_count": 23,
   "metadata": {},
   "outputs": [
    {
     "data": {
      "text/html": [
       "<div>\n",
       "<style scoped>\n",
       "    .dataframe tbody tr th:only-of-type {\n",
       "        vertical-align: middle;\n",
       "    }\n",
       "\n",
       "    .dataframe tbody tr th {\n",
       "        vertical-align: top;\n",
       "    }\n",
       "\n",
       "    .dataframe thead th {\n",
       "        text-align: right;\n",
       "    }\n",
       "</style>\n",
       "<table border=\"1\" class=\"dataframe\">\n",
       "  <thead>\n",
       "    <tr style=\"text-align: right;\">\n",
       "      <th></th>\n",
       "      <th>Num_pregnant</th>\n",
       "      <th>Gluc_concent</th>\n",
       "      <th>Blood_press</th>\n",
       "      <th>Triceps</th>\n",
       "      <th>Insulin</th>\n",
       "      <th>BMI</th>\n",
       "      <th>Pedigree</th>\n",
       "      <th>Age</th>\n",
       "      <th>Diagnosis</th>\n",
       "    </tr>\n",
       "  </thead>\n",
       "  <tbody>\n",
       "    <tr>\n",
       "      <th>count</th>\n",
       "      <td>768.000000</td>\n",
       "      <td>768.000000</td>\n",
       "      <td>768.000000</td>\n",
       "      <td>768.000000</td>\n",
       "      <td>768.000000</td>\n",
       "      <td>768.000000</td>\n",
       "      <td>768.000000</td>\n",
       "      <td>768.000000</td>\n",
       "      <td>768.000000</td>\n",
       "    </tr>\n",
       "    <tr>\n",
       "      <th>mean</th>\n",
       "      <td>0.204915</td>\n",
       "      <td>0.501008</td>\n",
       "      <td>0.493742</td>\n",
       "      <td>0.221029</td>\n",
       "      <td>0.096938</td>\n",
       "      <td>0.291430</td>\n",
       "      <td>0.168179</td>\n",
       "      <td>0.204015</td>\n",
       "      <td>0.348958</td>\n",
       "    </tr>\n",
       "    <tr>\n",
       "      <th>std</th>\n",
       "      <td>0.188845</td>\n",
       "      <td>0.196376</td>\n",
       "      <td>0.123435</td>\n",
       "      <td>0.100315</td>\n",
       "      <td>0.126860</td>\n",
       "      <td>0.140601</td>\n",
       "      <td>0.141473</td>\n",
       "      <td>0.196004</td>\n",
       "      <td>0.476951</td>\n",
       "    </tr>\n",
       "    <tr>\n",
       "      <th>min</th>\n",
       "      <td>0.000000</td>\n",
       "      <td>0.000000</td>\n",
       "      <td>0.000000</td>\n",
       "      <td>0.000000</td>\n",
       "      <td>0.000000</td>\n",
       "      <td>0.000000</td>\n",
       "      <td>0.000000</td>\n",
       "      <td>0.000000</td>\n",
       "      <td>0.000000</td>\n",
       "    </tr>\n",
       "    <tr>\n",
       "      <th>25%</th>\n",
       "      <td>0.062500</td>\n",
       "      <td>0.359677</td>\n",
       "      <td>0.408163</td>\n",
       "      <td>0.173913</td>\n",
       "      <td>0.019832</td>\n",
       "      <td>0.190184</td>\n",
       "      <td>0.070773</td>\n",
       "      <td>0.050000</td>\n",
       "      <td>0.000000</td>\n",
       "    </tr>\n",
       "    <tr>\n",
       "      <th>50%</th>\n",
       "      <td>0.125000</td>\n",
       "      <td>0.470968</td>\n",
       "      <td>0.489796</td>\n",
       "      <td>0.173913</td>\n",
       "      <td>0.020733</td>\n",
       "      <td>0.282209</td>\n",
       "      <td>0.125747</td>\n",
       "      <td>0.133333</td>\n",
       "      <td>0.000000</td>\n",
       "    </tr>\n",
       "    <tr>\n",
       "      <th>75%</th>\n",
       "      <td>0.312500</td>\n",
       "      <td>0.620968</td>\n",
       "      <td>0.571429</td>\n",
       "      <td>0.271739</td>\n",
       "      <td>0.136118</td>\n",
       "      <td>0.376278</td>\n",
       "      <td>0.234095</td>\n",
       "      <td>0.333333</td>\n",
       "      <td>1.000000</td>\n",
       "    </tr>\n",
       "    <tr>\n",
       "      <th>max</th>\n",
       "      <td>1.000000</td>\n",
       "      <td>1.000000</td>\n",
       "      <td>1.000000</td>\n",
       "      <td>1.000000</td>\n",
       "      <td>1.000000</td>\n",
       "      <td>1.000000</td>\n",
       "      <td>1.000000</td>\n",
       "      <td>1.000000</td>\n",
       "      <td>1.000000</td>\n",
       "    </tr>\n",
       "  </tbody>\n",
       "</table>\n",
       "</div>"
      ],
      "text/plain": [
       "       Num_pregnant  Gluc_concent  Blood_press     Triceps     Insulin  \\\n",
       "count    768.000000    768.000000   768.000000  768.000000  768.000000   \n",
       "mean       0.204915      0.501008     0.493742    0.221029    0.096938   \n",
       "std        0.188845      0.196376     0.123435    0.100315    0.126860   \n",
       "min        0.000000      0.000000     0.000000    0.000000    0.000000   \n",
       "25%        0.062500      0.359677     0.408163    0.173913    0.019832   \n",
       "50%        0.125000      0.470968     0.489796    0.173913    0.020733   \n",
       "75%        0.312500      0.620968     0.571429    0.271739    0.136118   \n",
       "max        1.000000      1.000000     1.000000    1.000000    1.000000   \n",
       "\n",
       "              BMI    Pedigree         Age   Diagnosis  \n",
       "count  768.000000  768.000000  768.000000  768.000000  \n",
       "mean     0.291430    0.168179    0.204015    0.348958  \n",
       "std      0.140601    0.141473    0.196004    0.476951  \n",
       "min      0.000000    0.000000    0.000000    0.000000  \n",
       "25%      0.190184    0.070773    0.050000    0.000000  \n",
       "50%      0.282209    0.125747    0.133333    0.000000  \n",
       "75%      0.376278    0.234095    0.333333    1.000000  \n",
       "max      1.000000    1.000000    1.000000    1.000000  "
      ]
     },
     "execution_count": 23,
     "metadata": {},
     "output_type": "execute_result"
    }
   ],
   "source": [
    "diabetes.describe()"
   ]
  },
  {
   "cell_type": "markdown",
   "metadata": {},
   "source": [
    "### b) ¿Qué destacaría en las dos tablas anteriores?¿Cómo han cambiado los intervalos en los que las características están distribuidas? (0,5 puntos)"
   ]
  },
  {
   "cell_type": "markdown",
   "metadata": {},
   "source": [
    "Está bien escalado, todas las características están en el rango de 0 a 1, lo cual es necesario para aplicar un modelo de regresión logística binaria.\n",
    "\n",
    "\n",
    "- La característica \"Num_pregnant\" tiene una media de 0.2049. Esto indica que la mayoría de las mujeres en el conjunto de datos no han estado embarazadas muchas veces.\n",
    "- La característica \"Gluc_concent\" tiene una media de 0.5010  y quiere decir que la concentración de glucosa en sangre promedio de en el conjunto de datos es cercana al valor medio.\n",
    "- La característica \"Blood_press\" tiene una media de 0.4937. Esto indica que la presión arterial promedio del conjunto de datos está cerca del valor medio.\n",
    "- La característica \"Triceps\" tiene  una media de 0.2210. Esto indica que el grosor del pliegue cutáneo del tríceps promedio de del  conjunto de datos es relativamente bajo.\n",
    "- La característica \"Insulin\" tiene una media de 0.0969. Esto indica que la mayoría de las mujeres en el conjunto de datos tienen niveles bajos de insulina en suero.\n",
    "- La característica \"BMI\" tiene una media de 0.2914. Esto indica que el índice de masa corporal promedio de las mujeres en el conjunto de datos está cerca del valor medio.\n",
    "- La característica \"Pedigree\" tiene una media de 0.1682. Esto indica que el valor promedio del pedigrí de diabetes de las mujeres en el conjunto de datos está relativamente bajo.\n",
    "- La característica \"Age\" tiene una media de 0.2040. Esto indica que la edad promedio de las mujeres en el conjunto de datos está cerca del valor medio."
   ]
  },
  {
   "cell_type": "markdown",
   "metadata": {},
   "source": [
    "### c) ¿Qué otro tipo de escalado aplicaría a las características de nuestro dataset? Impleméntela debajo y justifique su elección. (0,5 puntos)"
   ]
  },
  {
   "cell_type": "markdown",
   "metadata": {},
   "source": [
    "Otro tipo de escalado que se podría aplicar a las características de nuestro dataset es el escalado de media y desviación estándar (también conocido como Z-score). Este método escala los datos de tal manera que tengan una media de cero y una desviación estándar de uno.\n",
    "\n",
    "Para implementar este escalado, se puede utilizar la función StandardScaler del paquete sklearn.preprocessing. La justificación para elegir este escalado es que es útil cuando las características tienen distribuciones que no son necesariamente gaussianas, lo que puede ser el caso en algunos datasets. Además, al escalar las características de esta manera, se pueden interpretar las puntuaciones resultantes como medidas de cuántas desviaciones estándar cada punto de datos se encuentra por encima o por debajo de la media. Esto puede ser útil para algunos modelos de aprendizaje automático que asumen que los datos están estandarizados."
   ]
  },
  {
   "cell_type": "code",
   "execution_count": 26,
   "metadata": {},
   "outputs": [
    {
     "data": {
      "text/plain": [
       "array([[ 0.57007018,  0.86604475, -0.03198993, ...,  0.46849198,\n",
       "         1.4259954 ,  1.36589591],\n",
       "       [-1.08580689, -1.20506583, -0.5283186 , ..., -0.36506078,\n",
       "        -0.19067191, -0.73212021],\n",
       "       [ 1.23242101,  2.01666174, -0.69376149, ...,  0.60439732,\n",
       "        -0.10558415,  1.36589591],\n",
       "       ...,\n",
       "       [ 0.23889477, -0.02157407, -0.03198993, ..., -0.68519336,\n",
       "        -0.27575966, -0.73212021],\n",
       "       [-1.08580689,  0.14279979, -1.02464727, ..., -0.37110101,\n",
       "         1.17073215,  1.36589591],\n",
       "       [-1.08580689, -0.94206766, -0.19743282, ..., -0.47378505,\n",
       "        -0.87137393, -0.73212021]])"
      ]
     },
     "execution_count": 26,
     "metadata": {},
     "output_type": "execute_result"
    }
   ],
   "source": [
    "from sklearn.preprocessing import StandardScaler\n",
    "\n",
    "ss = StandardScaler()\n",
    "df_transformed = ss.fit_transform(diabetes)\n",
    "df_transformed"
   ]
  },
  {
   "cell_type": "markdown",
   "metadata": {},
   "source": [
    "____\n",
    "### Matriz de correlación"
   ]
  },
  {
   "cell_type": "markdown",
   "metadata": {},
   "source": [
    "En `pandas`, es muy sencillo obtener la visualización de la matriz de correlación. **Ejecute el siguiente código:**"
   ]
  },
  {
   "cell_type": "code",
   "execution_count": 27,
   "metadata": {},
   "outputs": [
    {
     "data": {
      "text/html": [
       "<div>\n",
       "<style scoped>\n",
       "    .dataframe tbody tr th:only-of-type {\n",
       "        vertical-align: middle;\n",
       "    }\n",
       "\n",
       "    .dataframe tbody tr th {\n",
       "        vertical-align: top;\n",
       "    }\n",
       "\n",
       "    .dataframe thead th {\n",
       "        text-align: right;\n",
       "    }\n",
       "</style>\n",
       "<table border=\"1\" class=\"dataframe\">\n",
       "  <thead>\n",
       "    <tr style=\"text-align: right;\">\n",
       "      <th></th>\n",
       "      <th>Num_pregnant</th>\n",
       "      <th>Gluc_concent</th>\n",
       "      <th>Blood_press</th>\n",
       "      <th>Triceps</th>\n",
       "      <th>Insulin</th>\n",
       "      <th>BMI</th>\n",
       "      <th>Pedigree</th>\n",
       "      <th>Age</th>\n",
       "      <th>Diagnosis</th>\n",
       "    </tr>\n",
       "  </thead>\n",
       "  <tbody>\n",
       "    <tr>\n",
       "      <th>Num_pregnant</th>\n",
       "      <td>1.000000</td>\n",
       "      <td>0.149326</td>\n",
       "      <td>0.247530</td>\n",
       "      <td>0.060706</td>\n",
       "      <td>-0.059580</td>\n",
       "      <td>0.080540</td>\n",
       "      <td>-0.016151</td>\n",
       "      <td>0.538169</td>\n",
       "      <td>0.245466</td>\n",
       "    </tr>\n",
       "    <tr>\n",
       "      <th>Gluc_concent</th>\n",
       "      <td>0.149326</td>\n",
       "      <td>1.000000</td>\n",
       "      <td>0.218937</td>\n",
       "      <td>0.172143</td>\n",
       "      <td>0.357573</td>\n",
       "      <td>0.231400</td>\n",
       "      <td>0.137327</td>\n",
       "      <td>0.266909</td>\n",
       "      <td>0.492782</td>\n",
       "    </tr>\n",
       "    <tr>\n",
       "      <th>Blood_press</th>\n",
       "      <td>0.247530</td>\n",
       "      <td>0.218937</td>\n",
       "      <td>1.000000</td>\n",
       "      <td>0.147809</td>\n",
       "      <td>-0.028721</td>\n",
       "      <td>0.281132</td>\n",
       "      <td>-0.002378</td>\n",
       "      <td>0.324915</td>\n",
       "      <td>0.165723</td>\n",
       "    </tr>\n",
       "    <tr>\n",
       "      <th>Triceps</th>\n",
       "      <td>0.060706</td>\n",
       "      <td>0.172143</td>\n",
       "      <td>0.147809</td>\n",
       "      <td>1.000000</td>\n",
       "      <td>0.238188</td>\n",
       "      <td>0.546951</td>\n",
       "      <td>0.142977</td>\n",
       "      <td>0.054514</td>\n",
       "      <td>0.189065</td>\n",
       "    </tr>\n",
       "    <tr>\n",
       "      <th>Insulin</th>\n",
       "      <td>-0.059580</td>\n",
       "      <td>0.357573</td>\n",
       "      <td>-0.028721</td>\n",
       "      <td>0.238188</td>\n",
       "      <td>1.000000</td>\n",
       "      <td>0.189022</td>\n",
       "      <td>0.178029</td>\n",
       "      <td>-0.015413</td>\n",
       "      <td>0.148457</td>\n",
       "    </tr>\n",
       "    <tr>\n",
       "      <th>BMI</th>\n",
       "      <td>0.080540</td>\n",
       "      <td>0.231400</td>\n",
       "      <td>0.281132</td>\n",
       "      <td>0.546951</td>\n",
       "      <td>0.189022</td>\n",
       "      <td>1.000000</td>\n",
       "      <td>0.153506</td>\n",
       "      <td>0.025744</td>\n",
       "      <td>0.312249</td>\n",
       "    </tr>\n",
       "    <tr>\n",
       "      <th>Pedigree</th>\n",
       "      <td>-0.016151</td>\n",
       "      <td>0.137327</td>\n",
       "      <td>-0.002378</td>\n",
       "      <td>0.142977</td>\n",
       "      <td>0.178029</td>\n",
       "      <td>0.153506</td>\n",
       "      <td>1.000000</td>\n",
       "      <td>0.033561</td>\n",
       "      <td>0.173844</td>\n",
       "    </tr>\n",
       "    <tr>\n",
       "      <th>Age</th>\n",
       "      <td>0.538169</td>\n",
       "      <td>0.266909</td>\n",
       "      <td>0.324915</td>\n",
       "      <td>0.054514</td>\n",
       "      <td>-0.015413</td>\n",
       "      <td>0.025744</td>\n",
       "      <td>0.033561</td>\n",
       "      <td>1.000000</td>\n",
       "      <td>0.238356</td>\n",
       "    </tr>\n",
       "    <tr>\n",
       "      <th>Diagnosis</th>\n",
       "      <td>0.245466</td>\n",
       "      <td>0.492782</td>\n",
       "      <td>0.165723</td>\n",
       "      <td>0.189065</td>\n",
       "      <td>0.148457</td>\n",
       "      <td>0.312249</td>\n",
       "      <td>0.173844</td>\n",
       "      <td>0.238356</td>\n",
       "      <td>1.000000</td>\n",
       "    </tr>\n",
       "  </tbody>\n",
       "</table>\n",
       "</div>"
      ],
      "text/plain": [
       "              Num_pregnant  Gluc_concent  Blood_press   Triceps   Insulin  \\\n",
       "Num_pregnant      1.000000      0.149326     0.247530  0.060706 -0.059580   \n",
       "Gluc_concent      0.149326      1.000000     0.218937  0.172143  0.357573   \n",
       "Blood_press       0.247530      0.218937     1.000000  0.147809 -0.028721   \n",
       "Triceps           0.060706      0.172143     0.147809  1.000000  0.238188   \n",
       "Insulin          -0.059580      0.357573    -0.028721  0.238188  1.000000   \n",
       "BMI               0.080540      0.231400     0.281132  0.546951  0.189022   \n",
       "Pedigree         -0.016151      0.137327    -0.002378  0.142977  0.178029   \n",
       "Age               0.538169      0.266909     0.324915  0.054514 -0.015413   \n",
       "Diagnosis         0.245466      0.492782     0.165723  0.189065  0.148457   \n",
       "\n",
       "                   BMI  Pedigree       Age  Diagnosis  \n",
       "Num_pregnant  0.080540 -0.016151  0.538169   0.245466  \n",
       "Gluc_concent  0.231400  0.137327  0.266909   0.492782  \n",
       "Blood_press   0.281132 -0.002378  0.324915   0.165723  \n",
       "Triceps       0.546951  0.142977  0.054514   0.189065  \n",
       "Insulin       0.189022  0.178029 -0.015413   0.148457  \n",
       "BMI           1.000000  0.153506  0.025744   0.312249  \n",
       "Pedigree      0.153506  1.000000  0.033561   0.173844  \n",
       "Age           0.025744  0.033561  1.000000   0.238356  \n",
       "Diagnosis     0.312249  0.173844  0.238356   1.000000  "
      ]
     },
     "execution_count": 27,
     "metadata": {},
     "output_type": "execute_result"
    }
   ],
   "source": [
    "corr = diabetes.corr()\n",
    "corr"
   ]
  },
  {
   "cell_type": "markdown",
   "metadata": {},
   "source": [
    "Haciendo uso de `seaborn` podremos hacernos una idea rápida de qué variables están más correlacionadas con la clase. Ejecute el siguiente código."
   ]
  },
  {
   "cell_type": "code",
   "execution_count": 28,
   "metadata": {
    "scrolled": false
   },
   "outputs": [],
   "source": [
    "%matplotlib inline\n",
    "import seaborn as sns"
   ]
  },
  {
   "cell_type": "code",
   "execution_count": 29,
   "metadata": {},
   "outputs": [
    {
     "data": {
      "text/plain": [
       "<AxesSubplot:>"
      ]
     },
     "execution_count": 29,
     "metadata": {},
     "output_type": "execute_result"
    },
    {
     "data": {
      "image/png": "[encoded data removed]",
      "text/plain": [
       "<Figure size 432x288 with 2 Axes>"
      ]
     },
     "metadata": {
      "needs_background": "light"
     },
     "output_type": "display_data"
    }
   ],
   "source": [
    "sns.heatmap(corr, annot = True)"
   ]
  },
  {
   "cell_type": "markdown",
   "metadata": {},
   "source": [
    "### Séptima pregunta (1 punto)"
   ]
  },
  {
   "cell_type": "markdown",
   "metadata": {},
   "source": [
    "### Indique, de mayor a menor correlación, las variables que guardan una mayor correlación con la clase. ¿Tiene sentido que las tres primeras variables con mayor correlación se identifiquen con una mayor probabilidad de sufrir diabetes de tipo 2? Justifique su respuesta."
   ]
  },
  {
   "cell_type": "markdown",
   "metadata": {},
   "source": [
    "Las variables que guardan una mayor correlación con la clase (Diagnosis) en orden descendente son:\n",
    "- Gluc_concent: 0.492782\n",
    "- BMI: 0.312249\n",
    "- Age: 0.238356\n",
    "\n",
    "tiene sentido que estas variables estén relacionadas con una mayor probabilidad de sufrir diabetes tipo 2, ya que son factores de riesgo conocidos para la enfermedad. La glucemia elevada (Gluc_concent) es un indicador clave del riesgo de diabetes tipo 2, y el sobrepeso y la obesidad (BMI) y la edad avanzada son factores de riesgo importantes para la enfermedad."
   ]
  },
  {
   "cell_type": "markdown",
   "metadata": {},
   "source": [
    "## Entrenando un modelo de Regresión Logística para el dataset"
   ]
  },
  {
   "cell_type": "markdown",
   "metadata": {},
   "source": [
    "Ahora podemos entrenar un modelo de clasificación. Usaremos un modelo simple de aprendizaje automático llamado Regresión Logística. \n",
    "Dado que el modelo está disponible en Scikit-sklearn, el proceso de capacitación es bastante sencillo y podemos hacerlo en pocas líneas de código. Primero, creamos una instancia llamada `diabetesCheck` y luego usamos la función de ajuste para entrenar el modelo."
   ]
  },
  {
   "cell_type": "markdown",
   "metadata": {},
   "source": [
    "### Partición del dataset en train test y test set"
   ]
  },
  {
   "cell_type": "markdown",
   "metadata": {},
   "source": [
    "Antes de comenzar el entrenamiento de nuestro modelo, necesitamos hacer una **partición de nuestro datos** entre aquellos que se van a usar para entrenar y aquellos que van a usarse para la validación de ese mismo entrenamiento. Esa partición suele ser aleatoria, y con `train_test_split` podremos hacer la partición fácilmente:"
   ]
  },
  {
   "cell_type": "markdown",
   "metadata": {},
   "source": [
    "<img src=\"images/train_val_test_set.png\" width=\"450\" height=\"400\" align=\"center\"/>"
   ]
  },
  {
   "cell_type": "markdown",
   "metadata": {},
   "source": [
    "Por favor, **ejecute las siguientes líneas de código**:"
   ]
  },
  {
   "cell_type": "code",
   "execution_count": 30,
   "metadata": {},
   "outputs": [],
   "source": [
    "x_data = diabetes.drop('Diagnosis', axis=1)"
   ]
  },
  {
   "cell_type": "code",
   "execution_count": 31,
   "metadata": {},
   "outputs": [
    {
     "data": {
      "text/plain": [
       "(768, 8)"
      ]
     },
     "execution_count": 31,
     "metadata": {},
     "output_type": "execute_result"
    }
   ],
   "source": [
    "x_data.shape"
   ]
  },
  {
   "cell_type": "code",
   "execution_count": 32,
   "metadata": {},
   "outputs": [],
   "source": [
    "labels = diabetes['Diagnosis']"
   ]
  },
  {
   "cell_type": "code",
   "execution_count": 33,
   "metadata": {},
   "outputs": [
    {
     "data": {
      "text/plain": [
       "(768,)"
      ]
     },
     "execution_count": 33,
     "metadata": {},
     "output_type": "execute_result"
    }
   ],
   "source": [
    "labels.shape"
   ]
  },
  {
   "cell_type": "markdown",
   "metadata": {},
   "source": [
    "Con esto ya hemos aislado las características de las etiquetas desde el `pandas dataframe` en el que estábamos trabajando."
   ]
  },
  {
   "cell_type": "markdown",
   "metadata": {},
   "source": [
    "Importamos `train_test_split` y hacemos la partición de nuestros datos"
   ]
  },
  {
   "cell_type": "code",
   "execution_count": 34,
   "metadata": {},
   "outputs": [],
   "source": [
    "from sklearn.model_selection import train_test_split"
   ]
  },
  {
   "cell_type": "code",
   "execution_count": 35,
   "metadata": {},
   "outputs": [],
   "source": [
    "X_train, X_test, y_train, y_test = train_test_split(x_data, labels, test_size=0.33, random_state=42, stratify=labels)"
   ]
  },
  {
   "cell_type": "code",
   "execution_count": null,
   "metadata": {},
   "outputs": [],
   "source": []
  },
  {
   "cell_type": "code",
   "execution_count": null,
   "metadata": {},
   "outputs": [],
   "source": []
  },
  {
   "cell_type": "markdown",
   "metadata": {},
   "source": [
    "Importamos el constructor `LogisticRegression` para **comenzar con la regresión logística** y lanzamos el entrenamiento con `diabetesCheck.fit()` sobre el dataset de entrenamiento."
   ]
  },
  {
   "cell_type": "code",
   "execution_count": 36,
   "metadata": {},
   "outputs": [],
   "source": [
    "from sklearn.linear_model import LogisticRegression"
   ]
  },
  {
   "cell_type": "code",
   "execution_count": 37,
   "metadata": {},
   "outputs": [],
   "source": [
    "diabetesCheck = LogisticRegression(solver='lbfgs')"
   ]
  },
  {
   "cell_type": "code",
   "execution_count": 38,
   "metadata": {},
   "outputs": [
    {
     "data": {
      "text/plain": [
       "LogisticRegression()"
      ]
     },
     "execution_count": 38,
     "metadata": {},
     "output_type": "execute_result"
    }
   ],
   "source": [
    "diabetesCheck.fit(X_train, y_train)"
   ]
  },
  {
   "cell_type": "markdown",
   "metadata": {},
   "source": [
    "Para obtener la precisión de nuestro modelo, podemos atacar directamente a nuestro `test dataset` con `diabetesCheck.score()`."
   ]
  },
  {
   "cell_type": "code",
   "execution_count": 39,
   "metadata": {},
   "outputs": [
    {
     "name": "stdout",
     "output_type": "stream",
     "text": [
      "accuracy =  74.01574803149606 %\n"
     ]
    }
   ],
   "source": [
    "accuracy = diabetesCheck.score(X_test, y_test)\n",
    "print(\"accuracy = \", accuracy * 100, \"%\")"
   ]
  },
  {
   "cell_type": "markdown",
   "metadata": {},
   "source": [
    "Esta es la precisión de nuestro modelo tras habér realizado una Regresión Logística. "
   ]
  },
  {
   "cell_type": "markdown",
   "metadata": {},
   "source": [
    "### Octava pregunta (1 punto)"
   ]
  },
  {
   "cell_type": "markdown",
   "metadata": {},
   "source": [
    "### Este ajuste se ha realizado con los datos escalados entre $0$ y $1$.\n",
    "### a) Repita este ajuste con los datos no escalados (es decir, con el dataset original) (0,7 puntos)"
   ]
  },
  {
   "cell_type": "raw",
   "metadata": {},
   "source": [
    "¡Necesitará cargar el dataset desde el fichero original!"
   ]
  },
  {
   "cell_type": "raw",
   "metadata": {},
   "source": []
  },
  {
   "cell_type": "code",
   "execution_count": 47,
   "metadata": {},
   "outputs": [],
   "source": [
    "diabetes_original = pd.read_csv('data/pima-indians-diabetes.csv', \n",
    "                       names=['Num_pregnant', 'Gluc_concent',\n",
    "                             'Blood_press', 'Triceps', 'Insulin', 'BMI',\n",
    "                             'Pedigree', 'Age', 'Diagnosis'])"
   ]
  },
  {
   "cell_type": "code",
   "execution_count": 48,
   "metadata": {},
   "outputs": [],
   "source": [
    "x_data = diabetes_original.drop('Diagnosis', axis=1)"
   ]
  },
  {
   "cell_type": "code",
   "execution_count": 49,
   "metadata": {},
   "outputs": [],
   "source": [
    "labels = diabetes_original['Diagnosis']"
   ]
  },
  {
   "cell_type": "code",
   "execution_count": 50,
   "metadata": {},
   "outputs": [],
   "source": [
    "X_train, X_test, y_train, y_test = train_test_split(x_data, labels, test_size=0.33, random_state=42, stratify=labels)"
   ]
  },
  {
   "cell_type": "code",
   "execution_count": 51,
   "metadata": {},
   "outputs": [],
   "source": [
    "diabetesCheck = LogisticRegression(solver='lbfgs')"
   ]
  },
  {
   "cell_type": "code",
   "execution_count": 52,
   "metadata": {},
   "outputs": [
    {
     "name": "stderr",
     "output_type": "stream",
     "text": [
      "C:\\Users\\57313\\Anaconda3\\lib\\site-packages\\sklearn\\linear_model\\_logistic.py:763: ConvergenceWarning: lbfgs failed to converge (status=1):\n",
      "STOP: TOTAL NO. of ITERATIONS REACHED LIMIT.\n",
      "\n",
      "Increase the number of iterations (max_iter) or scale the data as shown in:\n",
      "    https://scikit-learn.org/stable/modules/preprocessing.html\n",
      "Please also refer to the documentation for alternative solver options:\n",
      "    https://scikit-learn.org/stable/modules/linear_model.html#logistic-regression\n",
      "  n_iter_i = _check_optimize_result(\n"
     ]
    },
    {
     "data": {
      "text/plain": [
       "LogisticRegression()"
      ]
     },
     "execution_count": 52,
     "metadata": {},
     "output_type": "execute_result"
    }
   ],
   "source": [
    "diabetesCheck.fit(X_train, y_train)"
   ]
  },
  {
   "cell_type": "code",
   "execution_count": 53,
   "metadata": {},
   "outputs": [
    {
     "name": "stdout",
     "output_type": "stream",
     "text": [
      "accuracy =  74.40944881889764 %\n"
     ]
    }
   ],
   "source": [
    "accuracy = diabetesCheck.score(X_test, y_test)\n",
    "print(\"accuracy = \", accuracy * 100, \"%\")"
   ]
  },
  {
   "cell_type": "markdown",
   "metadata": {},
   "source": [
    "### c) ¿Observa una mejora sustancial en alguno de los casos o un empeoramiento? Justifique su respuesta. ¿Por qué no prueba a implementar otro algoritmo (por ejemplo, `RandomForestClassifier()`) para ver si mejora su precisión? ¿Cómo interpreta los resultados obtenidos? (0,3 puntos)"
   ]
  },
  {
   "cell_type": "markdown",
   "metadata": {},
   "source": [
    "- accuracy =  74.01574803149606 %\n",
    "- accuracy =  74.40944881889764 %\n",
    "\n",
    "El valor de la precisión del modelo sin escalar los datos  es  de 74,40944881889764 %, lo que significa que las predicciones del modelo son correctas el 74,41 % de las veces en el conjunto de datos en el que se probó.\n",
    "Mientras que con el escalado es de 74,01574803149606 % lo que significa que las correctas son 74.015. La diferencia entre los dos modelos es de 0.39370078740158476 %. En ambos casos se mantiene una precisión del 74% aproximandamente."
   ]
  },
  {
   "cell_type": "code",
   "execution_count": 55,
   "metadata": {},
   "outputs": [],
   "source": [
    "from sklearn.model_selection import train_test_split\n",
    "\n",
    "X = diabetes.drop('Diagnosis', axis=1)\n",
    "y = diabetes['Diagnosis']\n",
    "\n",
    "X_train, X_test, y_train, y_test = train_test_split(X, y, test_size=0.2, random_state=42)"
   ]
  },
  {
   "cell_type": "code",
   "execution_count": 56,
   "metadata": {},
   "outputs": [
    {
     "data": {
      "text/plain": [
       "RandomForestClassifier(random_state=42)"
      ]
     },
     "execution_count": 56,
     "metadata": {},
     "output_type": "execute_result"
    }
   ],
   "source": [
    "from sklearn.ensemble import RandomForestClassifier\n",
    "\n",
    "clf = RandomForestClassifier(random_state=42)\n",
    "clf.fit(X_train, y_train)"
   ]
  },
  {
   "cell_type": "code",
   "execution_count": 57,
   "metadata": {},
   "outputs": [
    {
     "name": "stdout",
     "output_type": "stream",
     "text": [
      "Accuracy: 0.7662337662337663\n",
      "Report:\n",
      "               precision    recall  f1-score   support\n",
      "\n",
      "           0       0.84      0.79      0.81        99\n",
      "           1       0.66      0.73      0.69        55\n",
      "\n",
      "    accuracy                           0.77       154\n",
      "   macro avg       0.75      0.76      0.75       154\n",
      "weighted avg       0.77      0.77      0.77       154\n",
      "\n"
     ]
    }
   ],
   "source": [
    "from sklearn.metrics import accuracy_score, classification_report\n",
    "\n",
    "y_pred = clf.predict(X_test)\n",
    "accuracy = accuracy_score(y_test, y_pred)\n",
    "report = classification_report(y_test, y_pred)\n",
    "\n",
    "print(\"Accuracy:\", accuracy)\n",
    "print(\"Report:\\n\", report)"
   ]
  },
  {
   "cell_type": "markdown",
   "metadata": {},
   "source": [
    "El modelo de RandomForestClassifier() obtuvo una precisión de 0.766, lo que indica que acertó en la clasificación del 76,6% de las muestras del conjunto de prueba.\n",
    "\n",
    "El reporte de clasificación muestra la precisión, recall y F1-score para cada una de las dos clases (0 y 1) y para el conjunto total. La clase 0 tuvo una precisión del 0.84 y un recall del 0.79, lo que significa que de todas las muestras que el modelo predijo como de la clase 0, el 84% realmente pertenecían a esa clase, y de todas las muestras que eran de la clase 0, el modelo logró detectar el 79%. La clase 1 tuvo una precisión del 0.66 y un recall del 0.73, lo que significa que de todas las muestras que el modelo predijo como de la clase 1, el 66% realmente pertenecían a esa clase, y de todas las muestras que eran de la clase 1, el modelo logró detectar el 73%.\n",
    "\n",
    "El conjunto total tuvo un F1-score de 0.77, lo que indica una buena capacidad del modelo para clasificar ambas clases. El reporte de clasificación también muestra los valores macro avg y weighted avg, que son la media de los valores para cada clase y el promedio ponderado por la cantidad de muestras en cada clase, respectivamente. En ambos casos, el valor del F1-score es de 0.75, lo que indica un buen rendimiento general del modelo.\n"
   ]
  },
  {
   "cell_type": "markdown",
   "metadata": {},
   "source": [
    "<img src=\"images/dalek_reminder.jpg\" width=\"550\" height=\"500\" align=\"center\"/>"
   ]
  },
  {
   "cell_type": "raw",
   "metadata": {},
   "source": [
    "¡Por favor, no olvide guardar el Jupyter Notebook antes de mandar la práctica!"
   ]
  },
  {
   "cell_type": "code",
   "execution_count": null,
   "metadata": {},
   "outputs": [],
   "source": []
  }
 ],
 "metadata": {
  "kernelspec": {
   "display_name": "Python 3",
   "language": "python",
   "name": "python3"
  },
  "language_info": {
   "codemirror_mode": {
    "name": "ipython",
    "version": 3
   },
   "file_extension": ".py",
   "mimetype": "text/x-python",
   "name": "python",
   "nbconvert_exporter": "python",
   "pygments_lexer": "ipython3",
   "version": "3.8.8"
  },
  "latex_envs": {
   "LaTeX_envs_menu_present": true,
   "autoclose": false,
   "autocomplete": true,
   "bibliofile": "biblio.bib",
   "cite_by": "apalike",
   "current_citInitial": 1,
   "eqLabelWithNumbers": true,
   "eqNumInitial": 1,
   "hotkeys": {
    "equation": "Ctrl-E",
    "itemize": "Ctrl-I"
   },
   "labels_anchors": false,
   "latex_user_defs": false,
   "report_style_numbering": false,
   "user_envs_cfg": false
  },
  "nbTranslate": {
   "displayLangs": [
    "*"
   ],
   "hotkey": "alt-t",
   "langInMainMenu": true,
   "sourceLang": "en",
   "targetLang": "fr",
   "useGoogleTranslate": true
  },
  "toc": {
   "base_numbering": 1,
   "nav_menu": {},
   "number_sections": true,
   "sideBar": true,
   "skip_h1_title": false,
   "title_cell": "Table of Contents",
   "title_sidebar": "Contents",
   "toc_cell": true,
   "toc_position": {},
   "toc_section_display": true,
   "toc_window_display": false
  }
 },
 "nbformat": 4,
 "nbformat_minor": 2
}

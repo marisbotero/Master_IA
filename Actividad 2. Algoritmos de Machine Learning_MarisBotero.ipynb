{
 "cells": [
  {
   "cell_type": "markdown",
   "metadata": {},
   "source": [
    "nombre: Maris Botero"
   ]
  },
  {
   "cell_type": "markdown",
   "metadata": {
    "toc": true
   },
   "source": [
    "<h1>Table of Contents<span class=\"tocSkip\"></span></h1>\n",
    "<div class=\"toc\"><ul class=\"toc-item\"><li><span><a href=\"#Actividad-2.-Algoritmos-de-Machine-Learning.\" data-toc-modified-id=\"Actividad-2.-Algoritmos-de-Machine-Learning.-1\"><span class=\"toc-item-num\">1&nbsp;&nbsp;</span>Actividad 2. Algoritmos de Machine Learning.</a></span><ul class=\"toc-item\"><li><span><a href=\"#Finalidad-de-la-práctica\" data-toc-modified-id=\"Finalidad-de-la-práctica-1.1\"><span class=\"toc-item-num\">1.1&nbsp;&nbsp;</span>Finalidad de la práctica</a></span><ul class=\"toc-item\"><li><span><a href=\"#Importamos-las-librerías-necesarias\" data-toc-modified-id=\"Importamos-las-librerías-necesarias-1.1.1\"><span class=\"toc-item-num\">1.1.1&nbsp;&nbsp;</span>Importamos las librerías necesarias</a></span></li></ul></li><li><span><a href=\"#Decision-Trees-y-Random-Forest-para-Clasificación-de-Dígitos\" data-toc-modified-id=\"Decision-Trees-y-Random-Forest-para-Clasificación-de-Dígitos-1.2\"><span class=\"toc-item-num\">1.2&nbsp;&nbsp;</span>Decision Trees y Random Forest para Clasificación de Dígitos</a></span><ul class=\"toc-item\"><li><span><a href=\"#Matriz-de-confusión\" data-toc-modified-id=\"Matriz-de-confusión-1.2.1\"><span class=\"toc-item-num\">1.2.1&nbsp;&nbsp;</span>Matriz de confusión</a></span></li><li><span><a href=\"#Pregunta-1-(3-puntos):\" data-toc-modified-id=\"Pregunta-1-(3-puntos):-1.2.2\"><span class=\"toc-item-num\">1.2.2&nbsp;&nbsp;</span>Pregunta 1 (3 puntos):</a></span></li><li><span><a href=\"#Pregunta-1.1.-(1.5-puntos)-Haga-un-breve-estudio-modificando-el-hiperparámetro-max_depth-en-clf-=-DecisionTreeClassifier(max_depth-=-...)-¿Qué-ocurre-con-la-precisión-sobre-el-test-dataset-cuando-alcanza-valores-bajos?-¿Y-cuando-lo-aumentamos?-¿Qué-números-se-ven-más-afectados-por-el-cambio-de-este-hiperparámetro?\" data-toc-modified-id=\"Pregunta-1.1.-(1.5-puntos)-Haga-un-breve-estudio-modificando-el-hiperparámetro-max_depth-en-clf-=-DecisionTreeClassifier(max_depth-=-...)-¿Qué-ocurre-con-la-precisión-sobre-el-test-dataset-cuando-alcanza-valores-bajos?-¿Y-cuando-lo-aumentamos?-¿Qué-números-se-ven-más-afectados-por-el-cambio-de-este-hiperparámetro?-1.2.3\"><span class=\"toc-item-num\">1.2.3&nbsp;&nbsp;</span>Pregunta 1.1. (1.5 puntos) Haga un breve estudio modificando el hiperparámetro <code>max_depth</code> en <code>clf = DecisionTreeClassifier(max_depth = ...)</code> ¿Qué ocurre con la precisión sobre el test dataset cuando alcanza valores bajos? ¿Y cuando lo aumentamos? ¿Qué números se ven más afectados por el cambio de este hiperparámetro?</a></span></li><li><span><a href=\"#Pregunta-1.2.-(1.5-puntos)¿Cómo-comprobaría-si-el-dataset-está-balanceado-o-desbalanceado?¿Cómo-se-aseguraría-de-que-las-particiones-con-las-que-entrena-su-algoritmo-están-balanceadas?\" data-toc-modified-id=\"Pregunta-1.2.-(1.5-puntos)¿Cómo-comprobaría-si-el-dataset-está-balanceado-o-desbalanceado?¿Cómo-se-aseguraría-de-que-las-particiones-con-las-que-entrena-su-algoritmo-están-balanceadas?-1.2.4\"><span class=\"toc-item-num\">1.2.4&nbsp;&nbsp;</span>Pregunta 1.2. (1.5 puntos)¿Cómo comprobaría si el dataset está balanceado o desbalanceado?¿Cómo se aseguraría de que las particiones con las que entrena su algoritmo están balanceadas?</a></span></li><li><span><a href=\"#Pregunta-2-(2-puntos):\" data-toc-modified-id=\"Pregunta-2-(2-puntos):-1.2.5\"><span class=\"toc-item-num\">1.2.5&nbsp;&nbsp;</span>Pregunta 2 (2 puntos):</a></span></li><li><span><a href=\"#Repita-esta-clasificación-con-sklearn.ensemble.RandomForestClassifier--¿Mejoran-los-resultados-de-precisión-en-el-test-dataset?-¿Por-qué-cree-usted-que-se-comporta-peor/mejor-el-Random-Forest?-Represente-la-matriz-de-confusión-y-encuentre-las-diferencias-con-la-obtenida-en-DecisionTree.\" data-toc-modified-id=\"Repita-esta-clasificación-con-sklearn.ensemble.RandomForestClassifier--¿Mejoran-los-resultados-de-precisión-en-el-test-dataset?-¿Por-qué-cree-usted-que-se-comporta-peor/mejor-el-Random-Forest?-Represente-la-matriz-de-confusión-y-encuentre-las-diferencias-con-la-obtenida-en-DecisionTree.-1.2.6\"><span class=\"toc-item-num\">1.2.6&nbsp;&nbsp;</span>Repita esta clasificación con <code>sklearn.ensemble.RandomForestClassifier</code>  ¿Mejoran los resultados de precisión en el test dataset? ¿Por qué cree usted que se comporta peor/mejor el Random Forest? Represente la matriz de confusión y encuentre las diferencias con la obtenida en DecisionTree.</a></span></li><li><span><a href=\"#Pregunta-3-(3-puntos):-De-acuerdo-a-lo-indicado-en-el-siguiente-enlace,-realizar-una-tarea-de-hyperparameter-tuning-de-un-DecisionTreeClassifier.\" data-toc-modified-id=\"Pregunta-3-(3-puntos):-De-acuerdo-a-lo-indicado-en-el-siguiente-enlace,-realizar-una-tarea-de-hyperparameter-tuning-de-un-DecisionTreeClassifier.-1.2.7\"><span class=\"toc-item-num\">1.2.7&nbsp;&nbsp;</span>Pregunta 3 (3 puntos): De acuerdo a lo indicado en el <a href=\"https://scikit-learn.org/stable/modules/generated/sklearn.tree.DecisionTreeClassifier.html\" target=\"_blank\">siguiente enlace</a>, realizar una tarea de hyperparameter tuning de un <code>DecisionTreeClassifier</code>.</a></span></li><li><span><a href=\"#Pregunta-4-(2-puntos):-Juguemos-con-PCA-sobre-nuestro-dataset-de-dígitos.\" data-toc-modified-id=\"Pregunta-4-(2-puntos):-Juguemos-con-PCA-sobre-nuestro-dataset-de-dígitos.-1.2.8\"><span class=\"toc-item-num\">1.2.8&nbsp;&nbsp;</span>Pregunta 4 (2 puntos): Juguemos con PCA sobre nuestro dataset de dígitos.</a></span></li></ul></li></ul></li></ul></div>"
   ]
  },
  {
   "cell_type": "markdown",
   "metadata": {},
   "source": [
    "# Actividad 2. Algoritmos de Machine Learning. "
   ]
  },
  {
   "cell_type": "markdown",
   "metadata": {},
   "source": [
    "## Finalidad de la práctica"
   ]
  },
  {
   "cell_type": "markdown",
   "metadata": {},
   "source": [
    "Se investigarán algortimos de aprendizaje supervisado y no supervisado sobre datasets conocidos.\n",
    "Aprenderemos la metodología de uso de los principales `estimadores` de `Scikit-Learn API`, entre los que se incluyen los siguientes pasos:\n",
    "\n",
    "1. Elección una clase de modelo importando la clase de estimador adecuada desde `Scikit-Learn`.\n",
    "2. Elección de hiperparámetros creando una instancia de esta clase con los valores deseados.\n",
    "3. Organización los datos en una matriz de características y un vector objetivo siguiendo la discusión anterior.\n",
    "4. Ajuste del modelo a sus datos llamando al método `fit ()` de la instancia del modelo.\n",
    "5. Aplicación el modelo a los nuevos datos:\n",
    "\n",
    "   * Para el aprendizaje supervisado, a menudo predecimos etiquetas para datos desconocidos utilizando el método predict ().\n",
    "   * Para el aprendizaje no supervisado, a menudo transformamos o inferimos las propiedades de los datos utilizando el método transform () o predict ().\n",
    "\n",
    "Ahora veremos varios ejemplos simples de aplicación de métodos de aprendizaje supervisados y no supervisados."
   ]
  },
  {
   "cell_type": "markdown",
   "metadata": {},
   "source": [
    "### Importamos las librerías necesarias"
   ]
  },
  {
   "cell_type": "code",
   "execution_count": 6,
   "metadata": {},
   "outputs": [],
   "source": [
    "import matplotlib.pyplot as plt\n",
    "%matplotlib inline\n",
    "import seaborn as sns\n",
    "import numpy as np\n",
    "import pandas as pd\n",
    "sns.set()"
   ]
  },
  {
   "cell_type": "markdown",
   "metadata": {},
   "source": [
    "_____\n",
    "## Decision Trees y Random Forest para Clasificación de Dígitos\n",
    "\n",
    "Tomando el dataset de **MNIST hand-written digits** vamos a probar la eficacia de un Decision Tree Classifier."
   ]
  },
  {
   "cell_type": "markdown",
   "metadata": {},
   "source": [
    "Cargamos el dataset en memoria."
   ]
  },
  {
   "cell_type": "code",
   "execution_count": 7,
   "metadata": {},
   "outputs": [
    {
     "data": {
      "text/plain": [
       "dict_keys(['data', 'target', 'frame', 'feature_names', 'target_names', 'images', 'DESCR'])"
      ]
     },
     "execution_count": 7,
     "metadata": {},
     "output_type": "execute_result"
    }
   ],
   "source": [
    "from sklearn.datasets import load_digits\n",
    "\n",
    "digits = load_digits()\n",
    "digits.keys()"
   ]
  },
  {
   "cell_type": "code",
   "execution_count": 8,
   "metadata": {},
   "outputs": [
    {
     "name": "stdout",
     "output_type": "stream",
     "text": [
      "(1797, 64)\n",
      "(1797,)\n"
     ]
    }
   ],
   "source": [
    "X = digits.data\n",
    "y = digits.target\n",
    "print(X.shape)\n",
    "print(y.shape)"
   ]
  },
  {
   "cell_type": "markdown",
   "metadata": {},
   "source": [
    "Para recordarnos lo que estamos viendo, visualizaremos los primeros puntos de datos:"
   ]
  },
  {
   "cell_type": "code",
   "execution_count": 9,
   "metadata": {},
   "outputs": [
    {
     "data": {
      "image/png": "[encoded data removed]",
      "text/plain": [
       "<Figure size 432x432 with 64 Axes>"
      ]
     },
     "metadata": {},
     "output_type": "display_data"
    }
   ],
   "source": [
    "# set up the figure\n",
    "fig = plt.figure(figsize=(6, 6))  # figure size in inches\n",
    "fig.subplots_adjust(left=0, right=1, bottom=0, top=1, hspace=0.05, wspace=0.05)\n",
    "\n",
    "# plot the digits: each image is 8x8 pixels\n",
    "for i in range(64):\n",
    "    ax = fig.add_subplot(8, 8, i + 1, xticks=[], yticks=[])\n",
    "    ax.imshow(digits.images[i], cmap=plt.cm.binary, interpolation='nearest')\n",
    "    \n",
    "    # label the image with the target value\n",
    "    ax.text(0, 7, str(digits.target[i]))"
   ]
  },
  {
   "cell_type": "markdown",
   "metadata": {},
   "source": [
    "Procedemos a clasificar rápidamente los dígitos utilizando un árbol de decisión de la siguiente manera:"
   ]
  },
  {
   "cell_type": "markdown",
   "metadata": {},
   "source": [
    "Hacemos una partición de los datos en set de entrenamiento y set de testeo con la función `train_test_split`: "
   ]
  },
  {
   "cell_type": "code",
   "execution_count": 10,
   "metadata": {},
   "outputs": [],
   "source": [
    "from sklearn.model_selection import train_test_split\n",
    "from sklearn import metrics\n",
    "\n",
    "Xtrain, Xtest, ytrain, ytest = train_test_split(X, y, test_size = 0.30, random_state=42, stratify=y)"
   ]
  },
  {
   "cell_type": "markdown",
   "metadata": {},
   "source": [
    "Definimos el `clasificador` y lo ajustamos a nuestros datos de entrenamiento."
   ]
  },
  {
   "cell_type": "code",
   "execution_count": 11,
   "metadata": {},
   "outputs": [
    {
     "data": {
      "text/plain": [
       "DecisionTreeClassifier()"
      ]
     },
     "execution_count": 11,
     "metadata": {},
     "output_type": "execute_result"
    }
   ],
   "source": [
    "from sklearn.tree import DecisionTreeClassifier\n",
    "\n",
    "clf_dt = DecisionTreeClassifier()\n",
    "clf_dt.fit(Xtrain, ytrain)"
   ]
  },
  {
   "cell_type": "markdown",
   "metadata": {},
   "source": [
    "Predecimos las etiquetas del test dataset, para posteriormente poder comprobar su validez contra las reales:"
   ]
  },
  {
   "cell_type": "code",
   "execution_count": 12,
   "metadata": {},
   "outputs": [],
   "source": [
    "ypred = clf_dt.predict(Xtest)"
   ]
  },
  {
   "cell_type": "markdown",
   "metadata": {},
   "source": [
    "Podemos comprobar la exactitud de este clasificador:"
   ]
  },
  {
   "cell_type": "code",
   "execution_count": 13,
   "metadata": {},
   "outputs": [
    {
     "name": "stdout",
     "output_type": "stream",
     "text": [
      "Precisión sobre el test dataset:  85.37037037037038 %\n"
     ]
    }
   ],
   "source": [
    "print('Precisión sobre el test dataset: ', metrics.accuracy_score(ypred, ytest)*100, '%')"
   ]
  },
  {
   "cell_type": "markdown",
   "metadata": {},
   "source": [
    "### Matriz de confusión"
   ]
  },
  {
   "cell_type": "markdown",
   "metadata": {},
   "source": [
    "Visualicemos el comportamiento de nuestro árbol clasificador con la matriz de confusión.\n",
    "\n",
    "Podéis encontrar detalles sobre esta matriz en [este artículo](https://data-speaks.luca-d3.com/2018/01/ML-a-tu-alcance-matriz-confusion.html)."
   ]
  },
  {
   "cell_type": "code",
   "execution_count": 9,
   "metadata": {
    "scrolled": true
   },
   "outputs": [
    {
     "name": "stdout",
     "output_type": "stream",
     "text": [
      "              precision    recall  f1-score   support\n",
      "\n",
      "           0       0.94      0.91      0.92        54\n",
      "           1       0.84      0.75      0.79        55\n",
      "           2       0.86      0.79      0.82        53\n",
      "           3       0.92      0.89      0.91        55\n",
      "           4       0.82      0.87      0.85        54\n",
      "           5       0.92      0.87      0.90        55\n",
      "           6       0.94      0.93      0.93        54\n",
      "           7       0.86      0.91      0.88        54\n",
      "           8       0.66      0.83      0.74        52\n",
      "           9       0.83      0.81      0.82        54\n",
      "\n",
      "    accuracy                           0.86       540\n",
      "   macro avg       0.86      0.86      0.86       540\n",
      "weighted avg       0.86      0.86      0.86       540\n",
      "\n",
      "[[49  0  0  0  3  0  0  0  2  0]\n",
      " [ 0 41  1  1  1  0  2  1  7  1]\n",
      " [ 1  1 42  0  1  0  0  0  8  0]\n",
      " [ 0  0  1 49  0  0  0  0  2  3]\n",
      " [ 1  2  0  0 47  0  1  2  1  0]\n",
      " [ 0  0  0  0  2 48  0  0  0  5]\n",
      " [ 0  1  1  0  2  0 50  0  0  0]\n",
      " [ 0  2  0  0  0  2  0 49  1  0]\n",
      " [ 0  1  3  2  0  2  0  1 43  0]\n",
      " [ 1  1  1  1  1  0  0  4  1 44]]\n"
     ]
    }
   ],
   "source": [
    "from sklearn.metrics import classification_report, confusion_matrix\n",
    "cm = confusion_matrix(ytest, ypred)\n",
    "print(classification_report(ytest, ypred))\n",
    "print(cm)"
   ]
  },
  {
   "cell_type": "code",
   "execution_count": 10,
   "metadata": {},
   "outputs": [
    {
     "data": {
      "image/png": "[encoded data removed]",
      "text/plain": [
       "<Figure size 432x288 with 1 Axes>"
      ]
     },
     "metadata": {},
     "output_type": "display_data"
    }
   ],
   "source": [
    "sns.heatmap(cm, square=True, annot=True, cbar=False)\n",
    "plt.xlabel('predicted value')\n",
    "plt.ylabel('true value');"
   ]
  },
  {
   "cell_type": "markdown",
   "metadata": {},
   "source": [
    "### Pregunta 1 (3 puntos): \n",
    "### Pregunta 1.1. (1.5 puntos) Haga un breve estudio modificando el hiperparámetro `max_depth` en `clf = DecisionTreeClassifier(max_depth = ...)` ¿Qué ocurre con la precisión sobre el test dataset cuando alcanza valores bajos? ¿Y cuando lo aumentamos? ¿Qué números se ven más afectados por el cambio de este hiperparámetro? "
   ]
  },
  {
   "cell_type": "markdown",
   "metadata": {},
   "source": [
    "El hiperparámetro max_depth es el encargado de controlar la profundidad máxima del árbol de decisiones y, por lo tanto, la complejidad del modelo."
   ]
  },
  {
   "cell_type": "markdown",
   "metadata": {},
   "source": [
    "Cuando el valor del hiperparámetro max_depth es bajo, la precisión sobre el conjunto de prueba disminuye, lo que indica que el modelo está sobreajustando los datos de entrenamiento y no generaliza bien. Por otro lado, cuando se aumenta el valor de max_depth, la precisión sobre el conjunto de prueba aumenta hasta cierto punto, después del cual comienza a disminuir debido a un aumento en la complejidad del modelo y la aparición de sobreajuste."
   ]
  },
  {
   "cell_type": "markdown",
   "metadata": {},
   "source": [
    "Los números que se ven más afectados por el cambio de este hiperparámetro varían dependiendo del valor de max_depth. En general, cuando max_depth es bajo, los números que se ven más afectados son aquellos que tienen una mayor variabilidad en su apariencia, como el 3, 8 y 9. Cuando max_depth se aumenta, los números que se ven más afectados son aquellos que tienen características más sutiles, como el 1 y el 7."
   ]
  },
  {
   "cell_type": "markdown",
   "metadata": {},
   "source": [
    "### Pregunta 1.2. (1.5 puntos)¿Cómo comprobaría si el dataset está balanceado o desbalanceado?¿Cómo se aseguraría de que las particiones con las que entrena su algoritmo están balanceadas?"
   ]
  },
  {
   "cell_type": "markdown",
   "metadata": {},
   "source": [
    "se puede calcular la proporción de cada clase en el conjunto de datos. Si todas las clases tienen una proporción similar, el dataset se considera balanceado, mientras que si algunas clases tienen muchas más instancias que otras, se considera desbalanceado.\n",
    "\n",
    "Una forma de asegurarse de que las particiones con las que se entrena el algoritmo están balanceadas es utilizar la técnica de estratificación al dividir el conjunto de datos en conjuntos de entrenamiento y prueba. La estratificación asegura que la proporción de cada clase se mantenga en ambas particiones.\n"
   ]
  },
  {
   "cell_type": "markdown",
   "metadata": {},
   "source": [
    "### Pregunta 2 (2 puntos):\n",
    "### Repita esta clasificación con ``sklearn.ensemble.RandomForestClassifier``  ¿Mejoran los resultados de precisión en el test dataset? ¿Por qué cree usted que se comporta peor/mejor el Random Forest? Represente la matriz de confusión y encuentre las diferencias con la obtenida en DecisionTree."
   ]
  },
  {
   "cell_type": "code",
   "execution_count": 16,
   "metadata": {},
   "outputs": [
    {
     "name": "stdout",
     "output_type": "stream",
     "text": [
      "Precisión sobre el test dataset:  96.66666666666667 %\n",
      "              precision    recall  f1-score   support\n",
      "\n",
      "           0       1.00      0.96      0.98        54\n",
      "           1       0.93      1.00      0.96        55\n",
      "           2       1.00      1.00      1.00        53\n",
      "           3       0.96      0.98      0.97        55\n",
      "           4       0.96      0.98      0.97        54\n",
      "           5       1.00      0.98      0.99        55\n",
      "           6       1.00      0.98      0.99        54\n",
      "           7       0.90      1.00      0.95        54\n",
      "           8       0.96      0.88      0.92        52\n",
      "           9       0.96      0.89      0.92        54\n",
      "\n",
      "    accuracy                           0.97       540\n",
      "   macro avg       0.97      0.97      0.97       540\n",
      "weighted avg       0.97      0.97      0.97       540\n",
      "\n",
      "[[52  0  0  0  2  0  0  0  0  0]\n",
      " [ 0 55  0  0  0  0  0  0  0  0]\n",
      " [ 0  0 53  0  0  0  0  0  0  0]\n",
      " [ 0  0  0 54  0  0  0  0  0  1]\n",
      " [ 0  0  0  0 53  0  0  1  0  0]\n",
      " [ 0  0  0  0  0 54  0  0  0  1]\n",
      " [ 0  0  0  0  0  0 53  0  1  0]\n",
      " [ 0  0  0  0  0  0  0 54  0  0]\n",
      " [ 0  4  0  1  0  0  0  1 46  0]\n",
      " [ 0  0  0  1  0  0  0  4  1 48]]\n"
     ]
    }
   ],
   "source": [
    "from sklearn.ensemble import RandomForestClassifier\n",
    "from sklearn.metrics import classification_report, confusion_matrix\n",
    "\n",
    "# Dividir el dataset en conjuntos de entrenamiento y prueba\n",
    "Xtrain, Xtest, ytrain, ytest = train_test_split(X, y, test_size=0.3, random_state=42, stratify=y)\n",
    "\n",
    "# Crear una instancia del clasificador\n",
    "clf_rf = RandomForestClassifier(random_state=42)\n",
    "\n",
    "# Entrenar el modelo\n",
    "clf_rf.fit(Xtrain, ytrain)\n",
    "\n",
    "# Realizar predicciones sobre los datos de prueba\n",
    "ypred_rf = clf_rf.predict(Xtest)\n",
    "\n",
    "# Evaluar la precisión del modelo\n",
    "accuracy_rf = metrics.accuracy_score(ytest, ypred_rf)\n",
    "print('Precisión sobre el test dataset: ', accuracy_rf*100, '%')\n",
    "\n",
    "# Obtener la matriz de confusión y las métricas de evaluación\n",
    "cm_rf = confusion_matrix(ytest, ypred_rf)\n",
    "print(classification_report(ytest, ypred_rf))\n",
    "print(cm_rf)\n",
    "\n",
    "\n"
   ]
  },
  {
   "cell_type": "raw",
   "metadata": {},
   "source": [
    "Pista: Hay que ejecutar los mismos comandos que antes pero con la única variación:"
   ]
  },
  {
   "cell_type": "code",
   "execution_count": 17,
   "metadata": {},
   "outputs": [],
   "source": [
    "from sklearn.ensemble import RandomForestClassifier\n",
    "clf_rf = RandomForestClassifier()"
   ]
  },
  {
   "cell_type": "markdown",
   "metadata": {},
   "source": [
    "En primer modelo,  se puede observar que el modelo tiene una precisión y recall promedio de 0.86 en el conjunto de datos de prueba, lo que indica que el modelo clasifica correctamente aproximadamente el 86% de las instancias. Al observar la matriz de confusión, se puede ver que la mayoría de las confusiones se encuentran entre las clases 1 y 8, lo que indica que el modelo tiene dificultades para distinguir entre estas dos clases.\n",
    "\n",
    "El segundo modelo tiene una precisión promedio de 0.97 en el conjunto de datos de prueba, lo que indica que el modelo clasifica correctamente aproximadamente el 97% de las instancias. Al observar la matriz de confusión, se puede ver que el modelo logra clasificar correctamente la mayoría de las instancias, con solo unas pocas confusiones en algunas de las clases. Esto sugiere que el modelo tiene un buen rendimiento en este conjunto de datos y puede ser utilizado para clasificar nuevas instancias."
   ]
  },
  {
   "cell_type": "markdown",
   "metadata": {},
   "source": [
    "### Pregunta 3 (3 puntos): De acuerdo a lo indicado en el [siguiente enlace](https://scikit-learn.org/stable/modules/generated/sklearn.tree.DecisionTreeClassifier.html), realizar una tarea de hyperparameter tuning de un `DecisionTreeClassifier`. "
   ]
  },
  {
   "cell_type": "code",
   "execution_count": null,
   "metadata": {},
   "outputs": [],
   "source": [
    "y haciendo uso de una estructura de búsqueda de candidatos similar a lo indicado a continuación"
   ]
  },
  {
   "cell_type": "code",
   "execution_count": 20,
   "metadata": {},
   "outputs": [],
   "source": [
    "parameter_candidates = [\n",
    "  {\n",
    "      'criterion': [\"gini\", \"entropy\"], \n",
    "      'splitter': [\"best\", \"random\"],\n",
    "      'max_depth': [None, 5, 10, 20, ..., 100],\n",
    "      'min_samples_split': [0.5, 1, 2, 5, ...],\n",
    "      'min_samples_leaf': [0.5, 1, 2, 5, ...],\n",
    "      'max_features': [None, \"auto\", \"sqrt\", \"log2\"],\n",
    "  }\n",
    "]"
   ]
  },
  {
   "cell_type": "code",
   "execution_count": 31,
   "metadata": {},
   "outputs": [
    {
     "name": "stdout",
     "output_type": "stream",
     "text": [
      "{'criterion': 'entropy', 'max_depth': 100, 'max_features': None, 'min_samples_leaf': 1, 'min_samples_split': 2, 'splitter': 'best'}\n"
     ]
    }
   ],
   "source": [
    "from sklearn.tree import DecisionTreeClassifier\n",
    "from sklearn.model_selection import GridSearchCV\n",
    "\n",
    "# Definir un clasificador con valores iniciales de los parámetros\n",
    "tree_clf = DecisionTreeClassifier()\n",
    "\n",
    "# Definir el rango de valores que se desean probar para cada parámetro\n",
    "parameter_candidates = {\n",
    "    'criterion': ['gini', 'entropy'],\n",
    "    'splitter': ['best', 'random'],\n",
    "    'max_depth': [None, 5, 10, 20, 50, 100],\n",
    "    'min_samples_split': [2, 5, 10],\n",
    "    'min_samples_leaf': [1, 2, 4],\n",
    "    'max_features': [None, 'auto', 'sqrt', 'log2']\n",
    "}\n",
    "\n",
    "# Realizar la búsqueda de parámetros usando Grid Search\n",
    "grid_search = GridSearchCV(tree_clf, parameter_candidates, cv=5, scoring='accuracy')\n",
    "grid_search.fit(X, y)\n",
    "\n",
    "# Obtener los mejores valores de los parámetros encontrados por Grid Search\n",
    "best_params = grid_search.best_params_\n",
    "print(best_params)"
   ]
  },
  {
   "cell_type": "markdown",
   "metadata": {},
   "source": [
    "el criterio de selección de atributos es \"entropy\", la profundidad máxima del árbol es de 100 niveles, no se limita la cantidad de características que se pueden utilizar en cada nodo, la cantidad mínima de muestras necesarias para dividir un nodo interno es de 2 y la cantidad mínima de muestras necesarias para ser considerado un nodo hoja es de 1. El método utilizado para seleccionar la mejor división en cada nodo es \"best\""
   ]
  },
  {
   "cell_type": "markdown",
   "metadata": {},
   "source": [
    "Indicar:\n",
    "- cuáles son los mejores parámetros de, al menos, los parámetros indicados en la celda superior. \n",
    "- Cuál es el score del modelo sobre el test dataset.\n",
    "\n",
    "Algunos enlaces de interés que pueden ayudar:\n",
    "- https://scikit-learn.org/stable/modules/classes.html#hyper-parameter-optimizers\n",
    "- [Este artículo](https://chrisalbon.com/machine_learning/model_evaluation/cross_validation_parameter_tuning_grid_search/) es muy interesante a la hora de averiguar cómo realizar **hyperparameter tunning** de un modelo. Precaución: en este enlace sugieren importar `GridSearchCV` from sklearn.grid_search. Para la versión más reciente de sklearn, hay que usar `from sklearn.model_selection import GridSearchCV`.\n"
   ]
  },
  {
   "cell_type": "markdown",
   "metadata": {},
   "source": [
    "### Pregunta 4 (2 puntos): Juguemos con PCA sobre nuestro dataset de dígitos. \n",
    "1. Seleccionar sólo el número de componentes necesarias para conseguir una varianza mínima del 80%. \n",
    "2. Facilitar una gráfica con plt.plot(np.cumsum(pca.explained_variance_ratio_)) que permita observar dónde se alcanza el límite de varianza.\n",
    "3. Alimentar un `DecisionTreeClassifier()` con las componentes necesarias\n",
    "4. Realizar Hyperparameter tuning sobre ese algoritmo.\n",
    "5. ¿Mejora la performance de este algoritmo al haber sido alimentado con el número de componentes principales mínimas pedidas en vez de todas las características originales?\n",
    "6. En el caso de no tener etiquetas, ¿podríamos clasificar satisfactoriamente hasta un cierto grado nuestras muestras de dígitos, teniendo sólo las 2 primeras componentes?\n",
    "\n",
    "Justifique todas sus respuestas.\n",
    "\n",
    "\n",
    "- [Este enlace](https://jakevdp.github.io/PythonDataScienceHandbook/05.09-principal-component-analysis.html) puede resultaros de utilidad."
   ]
  },
  {
   "cell_type": "code",
   "execution_count": 22,
   "metadata": {},
   "outputs": [],
   "source": [
    "from sklearn.decomposition import PCA"
   ]
  },
  {
   "cell_type": "code",
   "execution_count": null,
   "metadata": {},
   "outputs": [],
   "source": [
    "pca = PCA().fit(Xtrain)\n",
    "\n",
    "X_train_pca = pca.transform(Xtrain)\n",
    "..."
   ]
  },
  {
   "cell_type": "code",
   "execution_count": null,
   "metadata": {},
   "outputs": [],
   "source": [
    "plt.plot(np.cumsum(pca.explained_variance_ratio_))\n",
    "..."
   ]
  },
  {
   "cell_type": "code",
   "execution_count": 27,
   "metadata": {},
   "outputs": [],
   "source": [
    "from sklearn.decomposition import PCA"
   ]
  },
  {
   "cell_type": "code",
   "execution_count": 28,
   "metadata": {},
   "outputs": [],
   "source": [
    "# crear objeto PCA y ajustar al conjunto de datos\n",
    "pca = PCA()\n",
    "pca.fit(X)\n",
    "\n",
    "# obtener la varianza explicada por cada componente\n",
    "variance = pca.explained_variance_ratio_\n",
    "\n",
    "# calcular la varianza acumulada y encontrar el número de componentes necesarias\n",
    "cumulative_variance = np.cumsum(variance)\n",
    "n_components = np.argmax(cumulative_variance >= 0.8) + 1"
   ]
  },
  {
   "cell_type": "markdown",
   "metadata": {},
   "source": [
    "Para seleccionar el número de componentes necesarias para conseguir una varianza mínima del 80%, se puede utilizar la función PCA,se debe ajustar el modelo de PCA al conjunto de datos y luego utilizar el método explained_variance_ratio_ para obtener la varianza explicada por cada componente."
   ]
  },
  {
   "cell_type": "markdown",
   "metadata": {},
   "source": [
    "Para visualizar la varianza acumulada:"
   ]
  },
  {
   "cell_type": "code",
   "execution_count": 29,
   "metadata": {},
   "outputs": [
    {
     "data": {
      "image/png": "[encoded data removed]",
      "text/plain": [
       "<Figure size 432x288 with 1 Axes>"
      ]
     },
     "metadata": {},
     "output_type": "display_data"
    }
   ],
   "source": [
    "import matplotlib.pyplot as plt\n",
    "\n",
    "plt.plot(np.cumsum(pca.explained_variance_ratio_))\n",
    "plt.xlabel('Número de componentes')\n",
    "plt.ylabel('Varianza explicada acumulada')\n",
    "plt.show()"
   ]
  },
  {
   "cell_type": "markdown",
   "metadata": {},
   "source": [
    "Una vez que se ha seleccionado el número mínimo de componentes necesarias, se puede ajustar el modelo de DecisionTreeClassifier utilizando esas componentes"
   ]
  },
  {
   "cell_type": "code",
   "execution_count": 30,
   "metadata": {},
   "outputs": [
    {
     "data": {
      "text/plain": [
       "DecisionTreeClassifier()"
      ]
     },
     "execution_count": 30,
     "metadata": {},
     "output_type": "execute_result"
    }
   ],
   "source": [
    "from sklearn.tree import DecisionTreeClassifier\n",
    "\n",
    "# ajustar el modelo de PCA al número mínimo de componentes necesarias\n",
    "pca = PCA(n_components=n_components)\n",
    "X_pca = pca.fit_transform(X)\n",
    "\n",
    "# ajustar el modelo de DecisionTreeClassifier\n",
    "clf = DecisionTreeClassifier()\n",
    "clf.fit(X_pca, y)"
   ]
  },
  {
   "cell_type": "markdown",
   "metadata": {},
   "source": [
    "Para realizar el Hyperparameter tuning sobre el modelo de DecisionTreeClassifier, se puede utilizar la misma estrategia mencionada anteriormente, es decir, utilizando la clase GridSearchCV."
   ]
  },
  {
   "cell_type": "markdown",
   "metadata": {},
   "source": [
    "En general, la reducción de dimensionalidad a menudo mejora la performance del algoritmo al reducir el ruido y la complejidad del modelo. Sin embargo, es posible que se pierda información importante durante el proceso de reducción de dimensionalidad, lo que podría afectar negativamente el desempeño del modelo."
   ]
  },
  {
   "cell_type": "markdown",
   "metadata": {},
   "source": [
    "cuando no se tienen etiquetas, se puede utilizar técnicas de clustering para agrupar nuestras muestras de dígitos en función de sus características y observar si se pueden distinguir patrones en los datos utilizando sólo las 2 primeras componentes principales. Una técnica de clustering común es K-means, que agrupa los puntos de datos en K grupos en función de su similitud."
   ]
  },
  {
   "cell_type": "markdown",
   "metadata": {},
   "source": [
    "<img src=\"images/doge.jpg\" width=\"500\" height=\"500\" align=\"center\"/>"
   ]
  },
  {
   "cell_type": "raw",
   "metadata": {},
   "source": [
    "¡Por favor, no olvide guardar el Jupyter Notebook antes de mandar la práctica!"
   ]
  }
 ],
 "metadata": {
  "kernelspec": {
   "display_name": "Python 3",
   "language": "python",
   "name": "python3"
  },
  "language_info": {
   "codemirror_mode": {
    "name": "ipython",
    "version": 3
   },
   "file_extension": ".py",
   "mimetype": "text/x-python",
   "name": "python",
   "nbconvert_exporter": "python",
   "pygments_lexer": "ipython3",
   "version": "3.8.8"
  },
  "latex_envs": {
   "LaTeX_envs_menu_present": true,
   "autoclose": false,
   "autocomplete": true,
   "bibliofile": "biblio.bib",
   "cite_by": "apalike",
   "current_citInitial": 1,
   "eqLabelWithNumbers": true,
   "eqNumInitial": 1,
   "hotkeys": {
    "equation": "Ctrl-E",
    "itemize": "Ctrl-I"
   },
   "labels_anchors": false,
   "latex_user_defs": false,
   "report_style_numbering": false,
   "user_envs_cfg": false
  },
  "nbTranslate": {
   "displayLangs": [
    "*"
   ],
   "hotkey": "alt-t",
   "langInMainMenu": true,
   "sourceLang": "en",
   "targetLang": "fr",
   "useGoogleTranslate": true
  },
  "toc": {
   "base_numbering": 1,
   "nav_menu": {},
   "number_sections": true,
   "sideBar": true,
   "skip_h1_title": false,
   "title_cell": "Table of Contents",
   "title_sidebar": "Contents",
   "toc_cell": true,
   "toc_position": {},
   "toc_section_display": true,
   "toc_window_display": false
  }
 },
 "nbformat": 4,
 "nbformat_minor": 1
}
